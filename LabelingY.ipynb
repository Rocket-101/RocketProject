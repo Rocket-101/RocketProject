{
 "cells": [
  {
   "cell_type": "code",
   "execution_count": 58,
   "metadata": {},
   "outputs": [],
   "source": [
    "#get market data\n",
    "import pandas as pd\n",
    "market_df = pd.read_csv(\"Stock_Price.csv\")[2:]"
   ]
  },
  {
   "cell_type": "code",
   "execution_count": 59,
   "metadata": {},
   "outputs": [
    {
     "data": {
      "text/html": [
       "<div>\n",
       "<style scoped>\n",
       "    .dataframe tbody tr th:only-of-type {\n",
       "        vertical-align: middle;\n",
       "    }\n",
       "\n",
       "    .dataframe tbody tr th {\n",
       "        vertical-align: top;\n",
       "    }\n",
       "\n",
       "    .dataframe thead th {\n",
       "        text-align: right;\n",
       "    }\n",
       "</style>\n",
       "<table border=\"1\" class=\"dataframe\">\n",
       "  <thead>\n",
       "    <tr style=\"text-align: right;\">\n",
       "      <th></th>\n",
       "      <th>Attributes</th>\n",
       "      <th>High</th>\n",
       "      <th>Low</th>\n",
       "      <th>Open</th>\n",
       "      <th>Close</th>\n",
       "      <th>Volume</th>\n",
       "      <th>Adj Close</th>\n",
       "      <th>Daily Growth</th>\n",
       "    </tr>\n",
       "  </thead>\n",
       "  <tbody>\n",
       "    <tr>\n",
       "      <th>2</th>\n",
       "      <td>2016-09-26</td>\n",
       "      <td>2158.5400390625</td>\n",
       "      <td>2145.0400390625</td>\n",
       "      <td>2158.540039</td>\n",
       "      <td>2146.10009765625</td>\n",
       "      <td>3216170000</td>\n",
       "      <td>2146.100098</td>\n",
       "      <td>-0.005763</td>\n",
       "    </tr>\n",
       "    <tr>\n",
       "      <th>3</th>\n",
       "      <td>2016-09-27</td>\n",
       "      <td>2161.1298828125</td>\n",
       "      <td>2141.550048828125</td>\n",
       "      <td>2146.040039</td>\n",
       "      <td>2159.929931640625</td>\n",
       "      <td>3437770000</td>\n",
       "      <td>2159.929932</td>\n",
       "      <td>0.006472</td>\n",
       "    </tr>\n",
       "    <tr>\n",
       "      <th>4</th>\n",
       "      <td>2016-09-28</td>\n",
       "      <td>2172.39990234375</td>\n",
       "      <td>2151.7900390625</td>\n",
       "      <td>2161.850098</td>\n",
       "      <td>2171.3701171875</td>\n",
       "      <td>3891460000</td>\n",
       "      <td>2171.370117</td>\n",
       "      <td>0.004404</td>\n",
       "    </tr>\n",
       "    <tr>\n",
       "      <th>5</th>\n",
       "      <td>2016-09-29</td>\n",
       "      <td>2172.669921875</td>\n",
       "      <td>2145.199951171875</td>\n",
       "      <td>2168.899902</td>\n",
       "      <td>2151.1298828125</td>\n",
       "      <td>4249220000</td>\n",
       "      <td>2151.129883</td>\n",
       "      <td>-0.008193</td>\n",
       "    </tr>\n",
       "    <tr>\n",
       "      <th>6</th>\n",
       "      <td>2016-09-30</td>\n",
       "      <td>2175.300048828125</td>\n",
       "      <td>2156.510009765625</td>\n",
       "      <td>2156.510010</td>\n",
       "      <td>2168.27001953125</td>\n",
       "      <td>4173340000</td>\n",
       "      <td>2168.270020</td>\n",
       "      <td>0.005453</td>\n",
       "    </tr>\n",
       "  </tbody>\n",
       "</table>\n",
       "</div>"
      ],
      "text/plain": [
       "   Attributes               High                Low         Open  \\\n",
       "2  2016-09-26    2158.5400390625    2145.0400390625  2158.540039   \n",
       "3  2016-09-27    2161.1298828125  2141.550048828125  2146.040039   \n",
       "4  2016-09-28   2172.39990234375    2151.7900390625  2161.850098   \n",
       "5  2016-09-29     2172.669921875  2145.199951171875  2168.899902   \n",
       "6  2016-09-30  2175.300048828125  2156.510009765625  2156.510010   \n",
       "\n",
       "               Close      Volume    Adj Close  Daily Growth  \n",
       "2   2146.10009765625  3216170000  2146.100098     -0.005763  \n",
       "3  2159.929931640625  3437770000  2159.929932      0.006472  \n",
       "4    2171.3701171875  3891460000  2171.370117      0.004404  \n",
       "5    2151.1298828125  4249220000  2151.129883     -0.008193  \n",
       "6   2168.27001953125  4173340000  2168.270020      0.005453  "
      ]
     },
     "execution_count": 59,
     "metadata": {},
     "output_type": "execute_result"
    }
   ],
   "source": [
    "#get growth rate of daily price\n",
    "market_df['Adj Close'] = pd.to_numeric(market_df['Adj Close'],errors='coerce')\n",
    "market_df['Open'] = pd.to_numeric(market_df['Open'],errors='coerce')\n",
    "market_df['Daily Growth'] = (market_df['Adj Close']-market_df['Open'])/market_df['Open']\n",
    "market_df.head()"
   ]
  },
  {
   "cell_type": "code",
   "execution_count": 60,
   "metadata": {},
   "outputs": [
    {
     "data": {
      "text/plain": [
       "count    508.000000\n",
       "mean       0.000185\n",
       "std        0.005713\n",
       "min       -0.038737\n",
       "25%       -0.001881\n",
       "50%        0.000442\n",
       "75%        0.002863\n",
       "max        0.030733\n",
       "Name: Daily Growth, dtype: float64"
      ]
     },
     "execution_count": 60,
     "metadata": {},
     "output_type": "execute_result"
    }
   ],
   "source": [
    "# Statistical Description of Daily Growth\n",
    "import pandas as pd\n",
    "s = market_df['Daily Growth']\n",
    "s.describe()"
   ]
  },
  {
   "cell_type": "code",
   "execution_count": 61,
   "metadata": {},
   "outputs": [
    {
     "data": {
      "text/plain": [
       "<matplotlib.axes._subplots.AxesSubplot at 0x7f3e1288cbe0>"
      ]
     },
     "execution_count": 61,
     "metadata": {},
     "output_type": "execute_result"
    },
    {
     "data": {
      "image/png": "[encoded data removed]",
      "text/plain": [
       "<Figure size 432x288 with 1 Axes>"
      ]
     },
     "metadata": {
      "needs_background": "light"
     },
     "output_type": "display_data"
    }
   ],
   "source": [
    "# Statistical Distribution of Daily Growth\n",
    "import seaborn as sns\n",
    "sns.distplot(s)\n",
    "sns.distplot(s,hist=False, rug=True)"
   ]
  },
  {
   "cell_type": "code",
   "execution_count": 64,
   "metadata": {},
   "outputs": [
    {
     "data": {
      "text/plain": [
       "((array([-2.99693763e+00, -2.71541584e+00, -2.55714766e+00, -2.44494005e+00,\n",
       "         -2.35702910e+00, -2.28426461e+00, -2.22189850e+00, -2.16713782e+00,\n",
       "         -2.11819534e+00, -2.07385576e+00, -2.03325378e+00, -1.99575065e+00,\n",
       "         -1.96086089e+00, -1.92820660e+00, -1.89748759e+00, -1.86846133e+00,\n",
       "         -1.84092891e+00, -1.81472515e+00, -1.78971127e+00, -1.76576954e+00,\n",
       "         -1.74279917e+00, -1.72071318e+00, -1.69943600e+00, -1.67890149e+00,\n",
       "         -1.65905145e+00, -1.63983438e+00, -1.62120450e+00, -1.60312088e+00,\n",
       "         -1.58554681e+00, -1.56844922e+00, -1.55179822e+00, -1.53556667e+00,\n",
       "         -1.51972989e+00, -1.50426535e+00, -1.48915242e+00, -1.47437215e+00,\n",
       "         -1.45990713e+00, -1.44574128e+00, -1.43185975e+00, -1.41824878e+00,\n",
       "         -1.40489560e+00, -1.39178833e+00, -1.37891589e+00, -1.36626798e+00,\n",
       "         -1.35383492e+00, -1.34160769e+00, -1.32957782e+00, -1.31773733e+00,\n",
       "         -1.30607876e+00, -1.29459507e+00, -1.28327960e+00, -1.27212611e+00,\n",
       "         -1.26112865e+00, -1.25028165e+00, -1.23957979e+00, -1.22901804e+00,\n",
       "         -1.21859164e+00, -1.20829606e+00, -1.19812698e+00, -1.18808032e+00,\n",
       "         -1.17815217e+00, -1.16833880e+00, -1.15863668e+00, -1.14904242e+00,\n",
       "         -1.13955277e+00, -1.13016465e+00, -1.12087509e+00, -1.11168127e+00,\n",
       "         -1.10258047e+00, -1.09357008e+00, -1.08464761e+00, -1.07581067e+00,\n",
       "         -1.06705695e+00, -1.05838424e+00, -1.04979041e+00, -1.04127343e+00,\n",
       "         -1.03283132e+00, -1.02446218e+00, -1.01616419e+00, -1.00793558e+00,\n",
       "         -9.99774662e-01, -9.91679792e-01, -9.83649388e-01, -9.75681921e-01,\n",
       "         -9.67775914e-01, -9.59929940e-01, -9.52142618e-01, -9.44412613e-01,\n",
       "         -9.36738631e-01, -9.29119421e-01, -9.21553770e-01, -9.14040504e-01,\n",
       "         -9.06578483e-01, -8.99166604e-01, -8.91803796e-01, -8.84489019e-01,\n",
       "         -8.77221263e-01, -8.69999550e-01, -8.62822927e-01, -8.55690471e-01,\n",
       "         -8.48601282e-01, -8.41554486e-01, -8.34549234e-01, -8.27584698e-01,\n",
       "         -8.20660075e-01, -8.13774581e-01, -8.06927454e-01, -8.00117951e-01,\n",
       "         -7.93345348e-01, -7.86608941e-01, -7.79908041e-01, -7.73241979e-01,\n",
       "         -7.66610102e-01, -7.60011772e-01, -7.53446366e-01, -7.46913277e-01,\n",
       "         -7.40411914e-01, -7.33941696e-01, -7.27502059e-01, -7.21092451e-01,\n",
       "         -7.14712331e-01, -7.08361173e-01, -7.02038460e-01, -6.95743689e-01,\n",
       "         -6.89476366e-01, -6.83236009e-01, -6.77022146e-01, -6.70834315e-01,\n",
       "         -6.64672064e-01, -6.58534950e-01, -6.52422539e-01, -6.46334408e-01,\n",
       "         -6.40270139e-01, -6.34229326e-01, -6.28211569e-01, -6.22216476e-01,\n",
       "         -6.16243663e-01, -6.10292754e-01, -6.04363379e-01, -5.98455177e-01,\n",
       "         -5.92567792e-01, -5.86700874e-01, -5.80854082e-01, -5.75027080e-01,\n",
       "         -5.69219536e-01, -5.63431129e-01, -5.57661538e-01, -5.51910451e-01,\n",
       "         -5.46177561e-01, -5.40462566e-01, -5.34765169e-01, -5.29085078e-01,\n",
       "         -5.23422006e-01, -5.17775671e-01, -5.12145796e-01, -5.06532106e-01,\n",
       "         -5.00934334e-01, -4.95352215e-01, -4.89785489e-01, -4.84233899e-01,\n",
       "         -4.78697194e-01, -4.73175124e-01, -4.67667446e-01, -4.62173917e-01,\n",
       "         -4.56694302e-01, -4.51228365e-01, -4.45775876e-01, -4.40336608e-01,\n",
       "         -4.34910336e-01, -4.29496840e-01, -4.24095902e-01, -4.18707307e-01,\n",
       "         -4.13330842e-01, -4.07966299e-01, -4.02613470e-01, -3.97272153e-01,\n",
       "         -3.91942147e-01, -3.86623251e-01, -3.81315271e-01, -3.76018013e-01,\n",
       "         -3.70731286e-01, -3.65454900e-01, -3.60188669e-01, -3.54932408e-01,\n",
       "         -3.49685935e-01, -3.44449070e-01, -3.39221635e-01, -3.34003452e-01,\n",
       "         -3.28794349e-01, -3.23594152e-01, -3.18402691e-01, -3.13219798e-01,\n",
       "         -3.08045305e-01, -3.02879046e-01, -2.97720859e-01, -2.92570582e-01,\n",
       "         -2.87428053e-01, -2.82293114e-01, -2.77165608e-01, -2.72045379e-01,\n",
       "         -2.66932272e-01, -2.61826134e-01, -2.56726814e-01, -2.51634160e-01,\n",
       "         -2.46548025e-01, -2.41468259e-01, -2.36394717e-01, -2.31327252e-01,\n",
       "         -2.26265721e-01, -2.21209980e-01, -2.16159887e-01, -2.11115301e-01,\n",
       "         -2.06076081e-01, -2.01042089e-01, -1.96013187e-01, -1.90989237e-01,\n",
       "         -1.85970103e-01, -1.80955649e-01, -1.75945742e-01, -1.70940246e-01,\n",
       "         -1.65939030e-01, -1.60941961e-01, -1.55948908e-01, -1.50959740e-01,\n",
       "         -1.45974326e-01, -1.40992538e-01, -1.36014247e-01, -1.31039324e-01,\n",
       "         -1.26067642e-01, -1.21099075e-01, -1.16133495e-01, -1.11170778e-01,\n",
       "         -1.06210796e-01, -1.01253426e-01, -9.62985438e-02, -9.13460243e-02,\n",
       "         -8.63957442e-02, -8.14475805e-02, -7.65014101e-02, -7.15571106e-02,\n",
       "         -6.66145598e-02, -6.16736357e-02, -5.67342169e-02, -5.17961818e-02,\n",
       "         -4.68594095e-02, -4.19237789e-02, -3.69891694e-02, -3.20554605e-02,\n",
       "         -2.71225317e-02, -2.21902628e-02, -1.72585337e-02, -1.23272243e-02,\n",
       "         -7.39621471e-03, -2.46538492e-03,  2.46538492e-03,  7.39621471e-03,\n",
       "          1.23272243e-02,  1.72585337e-02,  2.21902628e-02,  2.71225317e-02,\n",
       "          3.20554605e-02,  3.69891694e-02,  4.19237789e-02,  4.68594095e-02,\n",
       "          5.17961818e-02,  5.67342169e-02,  6.16736357e-02,  6.66145598e-02,\n",
       "          7.15571106e-02,  7.65014101e-02,  8.14475805e-02,  8.63957442e-02,\n",
       "          9.13460243e-02,  9.62985438e-02,  1.01253426e-01,  1.06210796e-01,\n",
       "          1.11170778e-01,  1.16133495e-01,  1.21099075e-01,  1.26067642e-01,\n",
       "          1.31039324e-01,  1.36014247e-01,  1.40992538e-01,  1.45974326e-01,\n",
       "          1.50959740e-01,  1.55948908e-01,  1.60941961e-01,  1.65939030e-01,\n",
       "          1.70940246e-01,  1.75945742e-01,  1.80955649e-01,  1.85970103e-01,\n",
       "          1.90989237e-01,  1.96013187e-01,  2.01042089e-01,  2.06076081e-01,\n",
       "          2.11115301e-01,  2.16159887e-01,  2.21209980e-01,  2.26265721e-01,\n",
       "          2.31327252e-01,  2.36394717e-01,  2.41468259e-01,  2.46548025e-01,\n",
       "          2.51634160e-01,  2.56726814e-01,  2.61826134e-01,  2.66932272e-01,\n",
       "          2.72045379e-01,  2.77165608e-01,  2.82293114e-01,  2.87428053e-01,\n",
       "          2.92570582e-01,  2.97720859e-01,  3.02879046e-01,  3.08045305e-01,\n",
       "          3.13219798e-01,  3.18402691e-01,  3.23594152e-01,  3.28794349e-01,\n",
       "          3.34003452e-01,  3.39221635e-01,  3.44449070e-01,  3.49685935e-01,\n",
       "          3.54932408e-01,  3.60188669e-01,  3.65454900e-01,  3.70731286e-01,\n",
       "          3.76018013e-01,  3.81315271e-01,  3.86623251e-01,  3.91942147e-01,\n",
       "          3.97272153e-01,  4.02613470e-01,  4.07966299e-01,  4.13330842e-01,\n",
       "          4.18707307e-01,  4.24095902e-01,  4.29496840e-01,  4.34910336e-01,\n",
       "          4.40336608e-01,  4.45775876e-01,  4.51228365e-01,  4.56694302e-01,\n",
       "          4.62173917e-01,  4.67667446e-01,  4.73175124e-01,  4.78697194e-01,\n",
       "          4.84233899e-01,  4.89785489e-01,  4.95352215e-01,  5.00934334e-01,\n",
       "          5.06532106e-01,  5.12145796e-01,  5.17775671e-01,  5.23422006e-01,\n",
       "          5.29085078e-01,  5.34765169e-01,  5.40462566e-01,  5.46177561e-01,\n",
       "          5.51910451e-01,  5.57661538e-01,  5.63431129e-01,  5.69219536e-01,\n",
       "          5.75027080e-01,  5.80854082e-01,  5.86700874e-01,  5.92567792e-01,\n",
       "          5.98455177e-01,  6.04363379e-01,  6.10292754e-01,  6.16243663e-01,\n",
       "          6.22216476e-01,  6.28211569e-01,  6.34229326e-01,  6.40270139e-01,\n",
       "          6.46334408e-01,  6.52422539e-01,  6.58534950e-01,  6.64672064e-01,\n",
       "          6.70834315e-01,  6.77022146e-01,  6.83236009e-01,  6.89476366e-01,\n",
       "          6.95743689e-01,  7.02038460e-01,  7.08361173e-01,  7.14712331e-01,\n",
       "          7.21092451e-01,  7.27502059e-01,  7.33941696e-01,  7.40411914e-01,\n",
       "          7.46913277e-01,  7.53446366e-01,  7.60011772e-01,  7.66610102e-01,\n",
       "          7.73241979e-01,  7.79908041e-01,  7.86608941e-01,  7.93345348e-01,\n",
       "          8.00117951e-01,  8.06927454e-01,  8.13774581e-01,  8.20660075e-01,\n",
       "          8.27584698e-01,  8.34549234e-01,  8.41554486e-01,  8.48601282e-01,\n",
       "          8.55690471e-01,  8.62822927e-01,  8.69999550e-01,  8.77221263e-01,\n",
       "          8.84489019e-01,  8.91803796e-01,  8.99166604e-01,  9.06578483e-01,\n",
       "          9.14040504e-01,  9.21553770e-01,  9.29119421e-01,  9.36738631e-01,\n",
       "          9.44412613e-01,  9.52142618e-01,  9.59929940e-01,  9.67775914e-01,\n",
       "          9.75681921e-01,  9.83649388e-01,  9.91679792e-01,  9.99774662e-01,\n",
       "          1.00793558e+00,  1.01616419e+00,  1.02446218e+00,  1.03283132e+00,\n",
       "          1.04127343e+00,  1.04979041e+00,  1.05838424e+00,  1.06705695e+00,\n",
       "          1.07581067e+00,  1.08464761e+00,  1.09357008e+00,  1.10258047e+00,\n",
       "          1.11168127e+00,  1.12087509e+00,  1.13016465e+00,  1.13955277e+00,\n",
       "          1.14904242e+00,  1.15863668e+00,  1.16833880e+00,  1.17815217e+00,\n",
       "          1.18808032e+00,  1.19812698e+00,  1.20829606e+00,  1.21859164e+00,\n",
       "          1.22901804e+00,  1.23957979e+00,  1.25028165e+00,  1.26112865e+00,\n",
       "          1.27212611e+00,  1.28327960e+00,  1.29459507e+00,  1.30607876e+00,\n",
       "          1.31773733e+00,  1.32957782e+00,  1.34160769e+00,  1.35383492e+00,\n",
       "          1.36626798e+00,  1.37891589e+00,  1.39178833e+00,  1.40489560e+00,\n",
       "          1.41824878e+00,  1.43185975e+00,  1.44574128e+00,  1.45990713e+00,\n",
       "          1.47437215e+00,  1.48915242e+00,  1.50426535e+00,  1.51972989e+00,\n",
       "          1.53556667e+00,  1.55179822e+00,  1.56844922e+00,  1.58554681e+00,\n",
       "          1.60312088e+00,  1.62120450e+00,  1.63983438e+00,  1.65905145e+00,\n",
       "          1.67890149e+00,  1.69943600e+00,  1.72071318e+00,  1.74279917e+00,\n",
       "          1.76576954e+00,  1.78971127e+00,  1.81472515e+00,  1.84092891e+00,\n",
       "          1.86846133e+00,  1.89748759e+00,  1.92820660e+00,  1.96086089e+00,\n",
       "          1.99575065e+00,  2.03325378e+00,  2.07385576e+00,  2.11819534e+00,\n",
       "          2.16713782e+00,  2.22189850e+00,  2.28426461e+00,  2.35702910e+00,\n",
       "          2.44494005e+00,  2.55714766e+00,  2.71541584e+00,  2.99693763e+00]),\n",
       "  array([-3.87372894e-02, -3.36074786e-02, -2.20840032e-02, -2.05992532e-02,\n",
       "         -1.95827030e-02, -1.77122957e-02, -1.72485786e-02, -1.66576621e-02,\n",
       "         -1.56284617e-02, -1.48361918e-02, -1.45073139e-02, -1.38294684e-02,\n",
       "         -1.33741822e-02, -1.30086578e-02, -1.28461630e-02, -1.13910825e-02,\n",
       "         -1.10205823e-02, -1.08772414e-02, -1.05627990e-02, -1.03816188e-02,\n",
       "         -9.66941329e-03, -9.43143984e-03, -9.28599674e-03, -8.94625600e-03,\n",
       "         -8.86068708e-03, -8.32670972e-03, -8.27837124e-03, -8.19310265e-03,\n",
       "         -8.05300518e-03, -7.96736075e-03, -7.69541420e-03, -7.33555364e-03,\n",
       "         -7.05743034e-03, -7.04877056e-03, -6.99637879e-03, -6.96134549e-03,\n",
       "         -6.67998916e-03, -6.64362542e-03, -5.95373249e-03, -5.81763120e-03,\n",
       "         -5.77870163e-03, -5.77364077e-03, -5.76362455e-03, -5.76312748e-03,\n",
       "         -5.67595129e-03, -5.64897078e-03, -5.63747847e-03, -5.56368090e-03,\n",
       "         -5.56171941e-03, -5.44696463e-03, -5.35758560e-03, -5.19909328e-03,\n",
       "         -5.17593278e-03, -5.13979050e-03, -5.08133854e-03, -5.07612131e-03,\n",
       "         -5.06001154e-03, -4.83139722e-03, -4.82857395e-03, -4.77811381e-03,\n",
       "         -4.77172292e-03, -4.41546764e-03, -4.17422983e-03, -4.13142806e-03,\n",
       "         -3.96042108e-03, -3.86773171e-03, -3.85563413e-03, -3.84125960e-03,\n",
       "         -3.77445503e-03, -3.67315228e-03, -3.66603112e-03, -3.65207125e-03,\n",
       "         -3.65090360e-03, -3.63960640e-03, -3.61369835e-03, -3.45232696e-03,\n",
       "         -3.38755429e-03, -3.32192482e-03, -3.21208230e-03, -3.13128663e-03,\n",
       "         -3.06951980e-03, -3.05158750e-03, -3.04552834e-03, -3.03623197e-03,\n",
       "         -3.02395805e-03, -2.97280782e-03, -2.95642264e-03, -2.88212049e-03,\n",
       "         -2.87657716e-03, -2.79364898e-03, -2.76932159e-03, -2.76828928e-03,\n",
       "         -2.73991100e-03, -2.72956877e-03, -2.69482589e-03, -2.68484697e-03,\n",
       "         -2.65110848e-03, -2.64266068e-03, -2.62641166e-03, -2.61643241e-03,\n",
       "         -2.61030748e-03, -2.56930653e-03, -2.51970263e-03, -2.47154066e-03,\n",
       "         -2.45586818e-03, -2.41425512e-03, -2.41261008e-03, -2.38570972e-03,\n",
       "         -2.38351687e-03, -2.38338011e-03, -2.36071918e-03, -2.29053074e-03,\n",
       "         -2.27787940e-03, -2.26361895e-03, -2.23538278e-03, -2.14074818e-03,\n",
       "         -2.11857325e-03, -2.08648354e-03, -2.07816146e-03, -2.06289848e-03,\n",
       "         -2.00569310e-03, -1.97959535e-03, -1.94045424e-03, -1.90994373e-03,\n",
       "         -1.90861095e-03, -1.89619611e-03, -1.88344516e-03, -1.87971514e-03,\n",
       "         -1.77688103e-03, -1.73943646e-03, -1.73708937e-03, -1.70446098e-03,\n",
       "         -1.67928186e-03, -1.64048708e-03, -1.61366030e-03, -1.61191116e-03,\n",
       "         -1.61089308e-03, -1.58543907e-03, -1.58340644e-03, -1.56303322e-03,\n",
       "         -1.55933243e-03, -1.55858138e-03, -1.53601190e-03, -1.51680233e-03,\n",
       "         -1.49033705e-03, -1.48158177e-03, -1.47845655e-03, -1.44623363e-03,\n",
       "         -1.38405618e-03, -1.35447163e-03, -1.30885883e-03, -1.27080610e-03,\n",
       "         -1.26343133e-03, -1.24215205e-03, -1.21524255e-03, -1.19930669e-03,\n",
       "         -1.18975238e-03, -1.16440922e-03, -1.15724579e-03, -1.13771093e-03,\n",
       "         -1.13281618e-03, -1.12709756e-03, -1.09225875e-03, -1.08885367e-03,\n",
       "         -1.06493792e-03, -1.03402977e-03, -1.03131993e-03, -1.02991181e-03,\n",
       "         -9.91292873e-04, -9.78815788e-04, -9.74304219e-04, -9.69842098e-04,\n",
       "         -8.88058117e-04, -8.70539859e-04, -8.70089188e-04, -8.70034220e-04,\n",
       "         -8.62870359e-04, -8.61687885e-04, -8.60854098e-04, -8.52375774e-04,\n",
       "         -8.48310198e-04, -8.41924709e-04, -8.33462862e-04, -8.27914063e-04,\n",
       "         -7.63824097e-04, -7.54461063e-04, -7.49816996e-04, -7.49677756e-04,\n",
       "         -7.09639480e-04, -6.83072865e-04, -6.65951227e-04, -6.64903436e-04,\n",
       "         -6.43710647e-04, -6.42973513e-04, -6.40452959e-04, -6.28243863e-04,\n",
       "         -5.80923678e-04, -5.67188423e-04, -5.50869518e-04, -5.46052000e-04,\n",
       "         -5.42492661e-04, -4.81665302e-04, -4.76431911e-04, -4.45579753e-04,\n",
       "         -3.89141591e-04, -3.61308166e-04, -3.43511252e-04, -3.33056497e-04,\n",
       "         -3.27798326e-04, -3.08193773e-04, -3.02773392e-04, -3.02678110e-04,\n",
       "         -2.83378612e-04, -2.70989554e-04, -2.58683575e-04, -2.33363587e-04,\n",
       "         -2.10552175e-04, -1.97176346e-04, -1.67086933e-04, -1.46414890e-04,\n",
       "         -1.45179736e-04, -1.12988809e-04, -1.06686034e-04, -9.92772323e-05,\n",
       "         -8.28420957e-05, -7.11416684e-05, -5.94296250e-05, -2.01078332e-05,\n",
       "         -4.61813696e-06, -4.26679188e-06,  0.00000000e+00,  3.37138406e-05,\n",
       "          3.37523495e-05,  5.01340601e-05,  5.09375075e-05,  1.14717208e-04,\n",
       "          1.23737619e-04,  1.24927428e-04,  1.43584053e-04,  1.51247441e-04,\n",
       "          1.54399506e-04,  1.82963381e-04,  1.93885206e-04,  2.18081565e-04,\n",
       "          2.39983432e-04,  2.54864665e-04,  2.90136676e-04,  3.18508570e-04,\n",
       "          3.45297550e-04,  3.61553485e-04,  3.78725921e-04,  3.82440650e-04,\n",
       "          4.24948115e-04,  4.34532902e-04,  4.48736343e-04,  4.56352622e-04,\n",
       "          4.64409781e-04,  5.06708405e-04,  5.14162499e-04,  5.23506535e-04,\n",
       "          5.26265285e-04,  5.36071387e-04,  5.43497295e-04,  5.46725351e-04,\n",
       "          5.58433045e-04,  5.75661145e-04,  5.77725405e-04,  5.83936026e-04,\n",
       "          5.94767167e-04,  6.03298412e-04,  6.21629393e-04,  6.26775003e-04,\n",
       "          6.27797592e-04,  6.54658477e-04,  6.67002218e-04,  6.76757264e-04,\n",
       "          6.82959486e-04,  6.87694606e-04,  6.94025514e-04,  6.96080199e-04,\n",
       "          7.06381163e-04,  7.24051434e-04,  7.24219058e-04,  7.41974988e-04,\n",
       "          7.69106552e-04,  7.85571197e-04,  8.04541647e-04,  8.05339971e-04,\n",
       "          8.07136069e-04,  8.08617493e-04,  8.09926617e-04,  8.21693542e-04,\n",
       "          8.35952354e-04,  8.56488076e-04,  8.60859119e-04,  8.85889439e-04,\n",
       "          8.94203007e-04,  9.24094629e-04,  9.76100087e-04,  1.02729701e-03,\n",
       "          1.07500448e-03,  1.08678403e-03,  1.09327042e-03,  1.15114436e-03,\n",
       "          1.15375187e-03,  1.16159489e-03,  1.16929984e-03,  1.18155186e-03,\n",
       "          1.18330950e-03,  1.18485295e-03,  1.19233328e-03,  1.20433484e-03,\n",
       "          1.20689976e-03,  1.21191294e-03,  1.24092953e-03,  1.31723441e-03,\n",
       "          1.35735753e-03,  1.41447520e-03,  1.43906947e-03,  1.44690172e-03,\n",
       "          1.45625922e-03,  1.49402395e-03,  1.49924902e-03,  1.51362471e-03,\n",
       "          1.51885015e-03,  1.52192435e-03,  1.56604815e-03,  1.56621571e-03,\n",
       "          1.57191215e-03,  1.57859890e-03,  1.61151574e-03,  1.62554378e-03,\n",
       "          1.65641473e-03,  1.67566022e-03,  1.68148547e-03,  1.70023401e-03,\n",
       "          1.72099964e-03,  1.77207071e-03,  1.79648052e-03,  1.81127445e-03,\n",
       "          1.82188944e-03,  1.82718818e-03,  1.82728275e-03,  1.83763967e-03,\n",
       "          1.84376524e-03,  1.84493617e-03,  1.86278604e-03,  1.87955428e-03,\n",
       "          1.89346085e-03,  1.89672552e-03,  1.91102750e-03,  1.92608142e-03,\n",
       "          1.94770455e-03,  1.96347508e-03,  1.98616120e-03,  1.99910028e-03,\n",
       "          2.06218963e-03,  2.08321996e-03,  2.12517845e-03,  2.13282980e-03,\n",
       "          2.19024995e-03,  2.23619180e-03,  2.25164715e-03,  2.25781586e-03,\n",
       "          2.27608479e-03,  2.28904595e-03,  2.29318585e-03,  2.29505599e-03,\n",
       "          2.32605684e-03,  2.33476478e-03,  2.53027728e-03,  2.54717070e-03,\n",
       "          2.57143468e-03,  2.65643531e-03,  2.74743128e-03,  2.78028646e-03,\n",
       "          2.79013379e-03,  2.80635953e-03,  2.81258265e-03,  2.85272712e-03,\n",
       "          2.85858266e-03,  2.87800622e-03,  2.89249637e-03,  2.89876407e-03,\n",
       "          2.94098424e-03,  2.96216628e-03,  2.97944436e-03,  2.98134277e-03,\n",
       "          3.07913374e-03,  3.08032235e-03,  3.14142717e-03,  3.20408960e-03,\n",
       "          3.20907145e-03,  3.22529080e-03,  3.26688900e-03,  3.27201472e-03,\n",
       "          3.41123191e-03,  3.43217336e-03,  3.47838990e-03,  3.48377512e-03,\n",
       "          3.51671022e-03,  3.55944750e-03,  3.62743153e-03,  3.65459986e-03,\n",
       "          3.66497455e-03,  3.71131881e-03,  3.74513802e-03,  3.77432831e-03,\n",
       "          3.79202155e-03,  3.80821179e-03,  3.82839587e-03,  3.84449115e-03,\n",
       "          3.88015183e-03,  3.90616464e-03,  4.04576492e-03,  4.05056317e-03,\n",
       "          4.12798992e-03,  4.14623522e-03,  4.16084662e-03,  4.17724229e-03,\n",
       "          4.20582297e-03,  4.27177908e-03,  4.31108821e-03,  4.32749755e-03,\n",
       "          4.35610003e-03,  4.36872473e-03,  4.40364461e-03,  4.41187648e-03,\n",
       "          4.43189589e-03,  4.44601751e-03,  4.46660739e-03,  4.47985897e-03,\n",
       "          4.50122710e-03,  4.52605594e-03,  4.55921440e-03,  4.62656995e-03,\n",
       "          4.68428098e-03,  4.69432339e-03,  4.71371472e-03,  4.76887347e-03,\n",
       "          4.83108158e-03,  4.86357219e-03,  4.92664194e-03,  4.92845424e-03,\n",
       "          4.93205917e-03,  4.93679354e-03,  5.06914979e-03,  5.18242582e-03,\n",
       "          5.29976282e-03,  5.35826126e-03,  5.37405742e-03,  5.37514603e-03,\n",
       "          5.44354473e-03,  5.45326000e-03,  5.49200968e-03,  5.58036669e-03,\n",
       "          5.61326800e-03,  5.63780803e-03,  5.68324082e-03,  5.70548195e-03,\n",
       "          5.76623598e-03,  5.79747850e-03,  5.85290224e-03,  5.85580105e-03,\n",
       "          5.90479525e-03,  5.96533307e-03,  6.13247740e-03,  6.29442245e-03,\n",
       "          6.29940322e-03,  6.30884435e-03,  6.47233618e-03,  6.52913731e-03,\n",
       "          6.53777483e-03,  6.65093037e-03,  6.67279676e-03,  6.82994693e-03,\n",
       "          6.93729144e-03,  6.99671609e-03,  7.02638739e-03,  7.11503354e-03,\n",
       "          7.24542734e-03,  7.30065421e-03,  7.34467500e-03,  7.70827314e-03,\n",
       "          7.98543484e-03,  8.02637373e-03,  8.04451474e-03,  8.06202270e-03,\n",
       "          8.08718962e-03,  8.09692400e-03,  8.47586444e-03,  8.59512685e-03,\n",
       "          8.91670421e-03,  9.54835972e-03,  1.00577728e-02,  1.01209091e-02,\n",
       "          1.15987920e-02,  1.21705331e-02,  1.22271187e-02,  1.38552722e-02,\n",
       "          1.47244014e-02,  1.48717138e-02,  1.48746697e-02,  1.49655257e-02,\n",
       "          1.60102125e-02,  1.78861435e-02,  2.34709608e-02,  3.07329345e-02])),\n",
       " (0.005336267695188586, 0.00018536969480895314, 0.9302657695672466))"
      ]
     },
     "execution_count": 64,
     "metadata": {},
     "output_type": "execute_result"
    },
    {
     "data": {
      "image/png": "[encoded data removed]",
      "text/plain": [
       "<Figure size 432x288 with 1 Axes>"
      ]
     },
     "metadata": {
      "needs_background": "light"
     },
     "output_type": "display_data"
    }
   ],
   "source": [
    "from scipy import stats\n",
    "import seaborn as sns\n",
    "stats.probplot(s, plot=sns.mpl.pyplot)"
   ]
  },
  {
   "cell_type": "code",
   "execution_count": 76,
   "metadata": {
    "scrolled": true
   },
   "outputs": [
    {
     "data": {
      "text/plain": [
       "{'whiskers': [<matplotlib.lines.Line2D at 0x7f3e11da4550>,\n",
       "  <matplotlib.lines.Line2D at 0x7f3e11da4898>],\n",
       " 'caps': [<matplotlib.lines.Line2D at 0x7f3e11da4be0>,\n",
       "  <matplotlib.lines.Line2D at 0x7f3e11da4f28>],\n",
       " 'boxes': [<matplotlib.lines.Line2D at 0x7f3e11da4208>],\n",
       " 'medians': [<matplotlib.lines.Line2D at 0x7f3e11dad2b0>],\n",
       " 'fliers': [<matplotlib.lines.Line2D at 0x7f3e11dad940>],\n",
       " 'means': [<matplotlib.lines.Line2D at 0x7f3e11dad5f8>]}"
      ]
     },
     "execution_count": 76,
     "metadata": {},
     "output_type": "execute_result"
    },
    {
     "data": {
      "image/png": "[encoded data removed]",
      "text/plain": [
       "<Figure size 432x288 with 1 Axes>"
      ]
     },
     "metadata": {
      "needs_background": "light"
     },
     "output_type": "display_data"
    }
   ],
   "source": [
    "import matplotlib.pyplot as plt\n",
    "plt.boxplot(s)\n",
    "plt.show()\n",
    "plt.boxplot(s, showmeans=True, whis = 99)"
   ]
  },
  {
   "cell_type": "code",
   "execution_count": 80,
   "metadata": {},
   "outputs": [
    {
     "data": {
      "text/plain": [
       "0.0028634385538593445"
      ]
     },
     "execution_count": 80,
     "metadata": {},
     "output_type": "execute_result"
    }
   ],
   "source": [
    "import numpy as np\n",
    "np.percentile(s, )"
   ]
  },
  {
   "cell_type": "markdown",
   "metadata": {},
   "source": [
    "<font face=\"Times New Roman\" size=3 color=#000000>\n",
    "We could find that the distribution of daily growth is approximately symmetric around 0. Therefore we choose 2-sigma to lable y. That is, we lable y as 0 when it is in [0.000185-0.005713, 0.0001850.005713]"
   ]
  },
  {
   "cell_type": "code",
   "execution_count": 109,
   "metadata": {},
   "outputs": [],
   "source": [
    "# Labeling Y using the interval\n",
    "\n",
    "LabledY = []\n",
    "\n",
    "for row in market_df['Daily Growth']:\n",
    "    if row < -0.005528:\n",
    "        LabledY.append(-1)\n",
    "    elif row > 0.005898:\n",
    "        LabledY.append(1)\n",
    "    else:\n",
    "        LabledY.append(0)\n",
    "\n",
    "market_df['LabledY'] = LabledY\n",
    "        "
   ]
  },
  {
   "cell_type": "code",
   "execution_count": 113,
   "metadata": {},
   "outputs": [],
   "source": [
    "market_df.to_csv('LabeledY.csv')"
   ]
  },
  {
   "cell_type": "code",
   "execution_count": null,
   "metadata": {},
   "outputs": [],
   "source": []
  }
 ],
 "metadata": {
  "kernelspec": {
   "display_name": "Python 3",
   "language": "python",
   "name": "python3"
  },
  "language_info": {
   "codemirror_mode": {
    "name": "ipython",
    "version": 3
   },
   "file_extension": ".py",
   "mimetype": "text/x-python",
   "name": "python",
   "nbconvert_exporter": "python",
   "pygments_lexer": "ipython3",
   "version": "3.6.3"
  }
 },
 "nbformat": 4,
 "nbformat_minor": 2
}
