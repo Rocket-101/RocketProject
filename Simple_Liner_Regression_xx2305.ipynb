{
 "cells": [
  {
   "cell_type": "code",
   "execution_count": 2,
   "metadata": {},
   "outputs": [
    {
     "name": "stderr",
     "output_type": "stream",
     "text": [
      "[nltk_data] Downloading package punkt to /root/nltk_data...\n",
      "[nltk_data]   Package punkt is already up-to-date!\n",
      "[nltk_data] Downloading package averaged_perceptron_tagger to\n",
      "[nltk_data]     /root/nltk_data...\n",
      "[nltk_data]   Package averaged_perceptron_tagger is already up-to-\n",
      "[nltk_data]       date!\n",
      "[nltk_data] Downloading package vader_lexicon to /root/nltk_data...\n",
      "[nltk_data]   Package vader_lexicon is already up-to-date!\n"
     ]
    }
   ],
   "source": [
    "import numpy as np \n",
    "import pandas as pd \n",
    "import os\n",
    "import matplotlib.pyplot as plt\n",
    "import datetime as datetime\n",
    "import nltk\n",
    "import seaborn\n",
    "import csv\n",
    "from bs4 import BeautifulSoup\n",
    "from sklearn import datasets, linear_model\n",
    "nltk.download('punkt')\n",
    "nltk.download('averaged_perceptron_tagger')\n",
    "from nltk.corpus import stopwords\n",
    "from nltk.classify import SklearnClassifier\n",
    "from sklearn.model_selection import train_test_split \n",
    "from wordcloud import WordCloud,STOPWORDS\n",
    "import matplotlib.pyplot as plt\n",
    "nltk.download('vader_lexicon')\n",
    "from subprocess import check_output\n",
    "from nltk.sentiment.vader import SentimentIntensityAnalyzer\n",
    "from sklearn.linear_model import LinearRegression\n",
    "import seaborn as sns\n",
    "import numpy as np\n",
    "import statsmodels.api as sm\n",
    "import matplotlib.pyplot as plt\n",
    "from statsmodels.sandbox.regression.predstd import wls_prediction_std\n",
    "import pandas as pd\n",
    "from sklearn.tree import DecisionTreeRegressor\n",
    "from sklearn.linear_model import LinearRegression\n",
    "import numpy as np\n",
    "import matplotlib.pyplot as plt"
   ]
  },
  {
   "cell_type": "markdown",
   "metadata": {},
   "source": [
    "### Simple liner regression based on Daily Growth and title_score1 abs_score1"
   ]
  },
  {
   "cell_type": "code",
   "execution_count": 3,
   "metadata": {},
   "outputs": [],
   "source": [
    "df_combine = pd.read_csv('df_combine.csv')\n",
    "X1 = df_combine[['title_score1']]\n",
    "X1_train = X1[0:356]\n",
    "X1_test = X1[357:]\n",
    "X2 = df_combine[['abs_score1']]\n",
    "X2_train = X2[0:356]\n",
    "X2_test = X2[357:]\n",
    "Y = df_combine[['Daily Growth']]\n",
    "Y_train = Y[0:356]\n",
    "Y_test = Y[357:]\n",
    "Z = df_combine[['Adj Close']]\n",
    "Z_train = Z[0:356]\n",
    "Z_test = Z[357:]\n",
    "T = df_combine[['Attributes']]\n",
    "T_train = T[0:356]\n",
    "T_test = T[357:]"
   ]
  },
  {
   "cell_type": "code",
   "execution_count": 4,
   "metadata": {},
   "outputs": [
    {
     "name": "stdout",
     "output_type": "stream",
     "text": [
      "                            OLS Regression Results                            \n",
      "==============================================================================\n",
      "Dep. Variable:           Daily Growth   R-squared:                       0.002\n",
      "Model:                            OLS   Adj. R-squared:                 -0.001\n",
      "Method:                 Least Squares   F-statistic:                    0.7947\n",
      "Date:                Sun, 02 Dec 2018   Prob (F-statistic):              0.373\n",
      "Time:                        21:55:48   Log-Likelihood:                 1371.5\n",
      "No. Observations:                 356   AIC:                            -2741.\n",
      "Df Residuals:                     355   BIC:                            -2737.\n",
      "Df Model:                           1                                         \n",
      "Covariance Type:            nonrobust                                         \n",
      "================================================================================\n",
      "                   coef    std err          t      P>|t|      [0.025      0.975]\n",
      "--------------------------------------------------------------------------------\n",
      "title_score1     0.0003      0.000      0.891      0.373      -0.000       0.001\n",
      "==============================================================================\n",
      "Omnibus:                      180.490   Durbin-Watson:                   2.099\n",
      "Prob(Omnibus):                  0.000   Jarque-Bera (JB):             4885.956\n",
      "Skew:                          -1.529   Prob(JB):                         0.00\n",
      "Kurtosis:                      20.890   Cond. No.                         1.00\n",
      "==============================================================================\n",
      "\n",
      "Warnings:\n",
      "[1] Standard Errors assume that the covariance matrix of the errors is correctly specified.\n"
     ]
    }
   ],
   "source": [
    "# Use title_score1 and Daily Growth to make simple linear regression\n",
    "#We should look at Adj. R-squared to judge accuracy of the mode. Here, since Adj. R-squared is so small, the model is not fitted to the dataset.\n",
    "model = sm.OLS(Y_train, X1_train)\n",
    "results = model.fit()\n",
    "print(results.summary())"
   ]
  },
  {
   "cell_type": "code",
   "execution_count": 41,
   "metadata": {},
   "outputs": [
    {
     "data": {
      "image/png": "[encoded data removed]",
      "text/plain": [
       "<Figure size 432x288 with 1 Axes>"
      ]
     },
     "metadata": {
      "needs_background": "light"
     },
     "output_type": "display_data"
    }
   ],
   "source": [
    "# Function to show the resutls of linear fit model\n",
    "def show_linear_line(X_parameters_1,X_parameters_2, Y_parameters_1, Y_parameters_2):\n",
    "# Create linear regression object\n",
    "    regr = linear_model.LinearRegression()\n",
    "    regr.fit(X_parameters_1, Y_parameters_1)\n",
    "    plt.scatter(X_parameters_1,Y_parameters_1,color='blue',label = 'X_train')\n",
    "    plt.scatter(X_parameters_2,Y_parameters_2,color='g',label = 'X_test')\n",
    "    plt.scatter(X_parameters_2,regr.predict(X_parameters_2),color='red', label = 'X_predict')\n",
    "    plt.xlim((-1,1))\n",
    "    plt.ylim((-0.05,0.05))\n",
    "    plt.xlabel('tile_score1')\n",
    "    plt.ylabel('Daily Growth')\n",
    "    plt.xticks((-1,1))\n",
    "    plt.yticks((-0.05,0.05))\n",
    "    plt.title(u'linear regression')\n",
    "    plt.legend()\n",
    "    plt.show()\n",
    "\n",
    "show_linear_line(X1_train, X1_test, Y_train, Y_test)"
   ]
  },
  {
   "cell_type": "code",
   "execution_count": 6,
   "metadata": {},
   "outputs": [
    {
     "name": "stdout",
     "output_type": "stream",
     "text": [
      "                            OLS Regression Results                            \n",
      "==============================================================================\n",
      "Dep. Variable:           Daily Growth   R-squared:                       0.000\n",
      "Model:                            OLS   Adj. R-squared:                 -0.003\n",
      "Method:                 Least Squares   F-statistic:                   0.05625\n",
      "Date:                Sun, 02 Dec 2018   Prob (F-statistic):              0.813\n",
      "Time:                        21:55:49   Log-Likelihood:                 1371.2\n",
      "No. Observations:                 356   AIC:                            -2740.\n",
      "Df Residuals:                     355   BIC:                            -2736.\n",
      "Df Model:                           1                                         \n",
      "Covariance Type:            nonrobust                                         \n",
      "==============================================================================\n",
      "                 coef    std err          t      P>|t|      [0.025      0.975]\n",
      "------------------------------------------------------------------------------\n",
      "abs_score1  6.678e-05      0.000      0.237      0.813      -0.000       0.001\n",
      "==============================================================================\n",
      "Omnibus:                      175.662   Durbin-Watson:                   2.088\n",
      "Prob(Omnibus):                  0.000   Jarque-Bera (JB):             4703.359\n",
      "Skew:                          -1.470   Prob(JB):                         0.00\n",
      "Kurtosis:                      20.562   Cond. No.                         1.00\n",
      "==============================================================================\n",
      "\n",
      "Warnings:\n",
      "[1] Standard Errors assume that the covariance matrix of the errors is correctly specified.\n"
     ]
    }
   ],
   "source": [
    "# Use abs_score1 and Daily Growth to make simple linear regression\n",
    "#We should look at Adj. R-squared to judge accuracy of the mode. Here, since Adj. R-squared is so small, the model is not fitted to the dataset.\n",
    "model = sm.OLS(Y_train, X2_train)\n",
    "results = model.fit()\n",
    "print(results.summary())"
   ]
  },
  {
   "cell_type": "code",
   "execution_count": 44,
   "metadata": {},
   "outputs": [
    {
     "data": {
      "image/png": "[encoded data removed]",
      "text/plain": [
       "<Figure size 432x288 with 1 Axes>"
      ]
     },
     "metadata": {
      "needs_background": "light"
     },
     "output_type": "display_data"
    }
   ],
   "source": [
    "# Function to show the resutls of linear fit model\n",
    "def show_linear_line(X_parameters_1,X_parameters_2, Y_parameters_1, Y_parameters_2):\n",
    "# Create linear regression object\n",
    "    regr = linear_model.LinearRegression()\n",
    "    regr.fit(X_parameters_1, Y_parameters_1)\n",
    "    plt.scatter(X_parameters_1,Y_parameters_1,color='blue',label = 'X_train')\n",
    "    plt.scatter(X_parameters_2,Y_parameters_2,color='g',label = 'X_test')\n",
    "    plt.scatter(X_parameters_2,regr.predict(X_parameters_2),color='red', label = 'X_predict')\n",
    "    plt.xlim((-1,1))\n",
    "    plt.ylim((-0.05,0.05))\n",
    "    plt.xlabel('tile_score1')\n",
    "    plt.ylabel('Daily Growth')\n",
    "    plt.xticks((-1,1))\n",
    "    plt.yticks((-0.05,0.05))\n",
    "    plt.title(u'linear regression')\n",
    "    plt.legend()\n",
    "    plt.show()\n",
    "\n",
    "show_linear_line(X2_train, X2_test, Y_train, Y_test)"
   ]
  },
  {
   "cell_type": "code",
   "execution_count": 10,
   "metadata": {},
   "outputs": [],
   "source": [
    "#here, we can conclude that linear regression model does not fit our dataset."
   ]
  }
 ],
 "metadata": {
  "kernelspec": {
   "display_name": "Python 3",
   "language": "python",
   "name": "python3"
  },
  "language_info": {
   "codemirror_mode": {
    "name": "ipython",
    "version": 3
   },
   "file_extension": ".py",
   "mimetype": "text/x-python",
   "name": "python",
   "nbconvert_exporter": "python",
   "pygments_lexer": "ipython3",
   "version": "3.6.3"
  }
 },
 "nbformat": 4,
 "nbformat_minor": 2
}
