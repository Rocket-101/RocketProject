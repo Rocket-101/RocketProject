{
 "cells": [
  {
   "cell_type": "code",
   "execution_count": 201,
   "metadata": {},
   "outputs": [],
   "source": [
    "# Import Library\n",
    "\n",
    "import numpy as np\n",
    "import pandas as pd\n",
    "import matplotlib.pyplot as plt\n",
    "from sklearn.svm import SVR\n",
    "from sklearn.model_selection import train_test_split\n",
    "from sklearn import preprocessing\n",
    "from sklearn.model_selection import cross_val_score"
   ]
  },
  {
   "cell_type": "code",
   "execution_count": 169,
   "metadata": {},
   "outputs": [],
   "source": [
    "data = pd.read_csv(\"News_score(2).csv\")"
   ]
  },
  {
   "cell_type": "code",
   "execution_count": 170,
   "metadata": {},
   "outputs": [
    {
     "data": {
      "text/html": [
       "<div>\n",
       "<style scoped>\n",
       "    .dataframe tbody tr th:only-of-type {\n",
       "        vertical-align: middle;\n",
       "    }\n",
       "\n",
       "    .dataframe tbody tr th {\n",
       "        vertical-align: top;\n",
       "    }\n",
       "\n",
       "    .dataframe thead th {\n",
       "        text-align: right;\n",
       "    }\n",
       "</style>\n",
       "<table border=\"1\" class=\"dataframe\">\n",
       "  <thead>\n",
       "    <tr style=\"text-align: right;\">\n",
       "      <th></th>\n",
       "      <th>Unnamed: 0</th>\n",
       "      <th>Date</th>\n",
       "      <th>High</th>\n",
       "      <th>Low</th>\n",
       "      <th>Open</th>\n",
       "      <th>Close</th>\n",
       "      <th>Volume</th>\n",
       "      <th>Adj Close</th>\n",
       "      <th>Daily Growth</th>\n",
       "      <th>LabeledY1</th>\n",
       "      <th>LabeledY2</th>\n",
       "      <th>title_score1</th>\n",
       "      <th>abs_score1</th>\n",
       "      <th>title_score2</th>\n",
       "      <th>abs_score2</th>\n",
       "      <th>title_polarity</th>\n",
       "      <th>title_subjectivity</th>\n",
       "      <th>abs_polarity</th>\n",
       "      <th>abs_subjectivity</th>\n",
       "    </tr>\n",
       "  </thead>\n",
       "  <tbody>\n",
       "    <tr>\n",
       "      <th>0</th>\n",
       "      <td>0</td>\n",
       "      <td>2016-09-26</td>\n",
       "      <td>2158.540039</td>\n",
       "      <td>2145.040039</td>\n",
       "      <td>2158.540039</td>\n",
       "      <td>2146.100098</td>\n",
       "      <td>3216170000</td>\n",
       "      <td>2146.100098</td>\n",
       "      <td>-0.005763</td>\n",
       "      <td>-1</td>\n",
       "      <td>-1</td>\n",
       "      <td>0.9508</td>\n",
       "      <td>0.9990</td>\n",
       "      <td>0.3612</td>\n",
       "      <td>0.9952</td>\n",
       "      <td>0.070004</td>\n",
       "      <td>0.396425</td>\n",
       "      <td>0.041043</td>\n",
       "      <td>0.413740</td>\n",
       "    </tr>\n",
       "    <tr>\n",
       "      <th>1</th>\n",
       "      <td>1</td>\n",
       "      <td>2016-09-27</td>\n",
       "      <td>2161.129883</td>\n",
       "      <td>2141.550049</td>\n",
       "      <td>2146.040039</td>\n",
       "      <td>2159.929932</td>\n",
       "      <td>3437770000</td>\n",
       "      <td>2159.929932</td>\n",
       "      <td>0.006472</td>\n",
       "      <td>1</td>\n",
       "      <td>1</td>\n",
       "      <td>0.9881</td>\n",
       "      <td>0.9976</td>\n",
       "      <td>-0.9761</td>\n",
       "      <td>-0.9717</td>\n",
       "      <td>0.010467</td>\n",
       "      <td>0.412125</td>\n",
       "      <td>0.017999</td>\n",
       "      <td>0.435100</td>\n",
       "    </tr>\n",
       "    <tr>\n",
       "      <th>2</th>\n",
       "      <td>2</td>\n",
       "      <td>2016-09-28</td>\n",
       "      <td>2172.399902</td>\n",
       "      <td>2151.790039</td>\n",
       "      <td>2161.850098</td>\n",
       "      <td>2171.370117</td>\n",
       "      <td>3891460000</td>\n",
       "      <td>2171.370117</td>\n",
       "      <td>0.004404</td>\n",
       "      <td>0</td>\n",
       "      <td>1</td>\n",
       "      <td>-0.9888</td>\n",
       "      <td>0.9942</td>\n",
       "      <td>-0.9806</td>\n",
       "      <td>0.7184</td>\n",
       "      <td>0.061586</td>\n",
       "      <td>0.368534</td>\n",
       "      <td>0.050819</td>\n",
       "      <td>0.481116</td>\n",
       "    </tr>\n",
       "    <tr>\n",
       "      <th>3</th>\n",
       "      <td>3</td>\n",
       "      <td>2016-09-29</td>\n",
       "      <td>2172.669922</td>\n",
       "      <td>2145.199951</td>\n",
       "      <td>2168.899902</td>\n",
       "      <td>2151.129883</td>\n",
       "      <td>4249220000</td>\n",
       "      <td>2151.129883</td>\n",
       "      <td>-0.008193</td>\n",
       "      <td>-1</td>\n",
       "      <td>-1</td>\n",
       "      <td>0.9911</td>\n",
       "      <td>0.9987</td>\n",
       "      <td>0.6249</td>\n",
       "      <td>0.9856</td>\n",
       "      <td>0.009768</td>\n",
       "      <td>0.415676</td>\n",
       "      <td>0.025399</td>\n",
       "      <td>0.419600</td>\n",
       "    </tr>\n",
       "    <tr>\n",
       "      <th>4</th>\n",
       "      <td>4</td>\n",
       "      <td>2016-09-30</td>\n",
       "      <td>2175.300049</td>\n",
       "      <td>2156.510010</td>\n",
       "      <td>2156.510010</td>\n",
       "      <td>2168.270020</td>\n",
       "      <td>4173340000</td>\n",
       "      <td>2168.270020</td>\n",
       "      <td>0.005453</td>\n",
       "      <td>0</td>\n",
       "      <td>1</td>\n",
       "      <td>-0.8984</td>\n",
       "      <td>0.9958</td>\n",
       "      <td>-0.9623</td>\n",
       "      <td>0.9417</td>\n",
       "      <td>0.081814</td>\n",
       "      <td>0.429716</td>\n",
       "      <td>0.054197</td>\n",
       "      <td>0.412035</td>\n",
       "    </tr>\n",
       "  </tbody>\n",
       "</table>\n",
       "</div>"
      ],
      "text/plain": [
       "   Unnamed: 0        Date         High          Low         Open        Close  \\\n",
       "0           0  2016-09-26  2158.540039  2145.040039  2158.540039  2146.100098   \n",
       "1           1  2016-09-27  2161.129883  2141.550049  2146.040039  2159.929932   \n",
       "2           2  2016-09-28  2172.399902  2151.790039  2161.850098  2171.370117   \n",
       "3           3  2016-09-29  2172.669922  2145.199951  2168.899902  2151.129883   \n",
       "4           4  2016-09-30  2175.300049  2156.510010  2156.510010  2168.270020   \n",
       "\n",
       "       Volume    Adj Close  Daily Growth  LabeledY1  LabeledY2  title_score1  \\\n",
       "0  3216170000  2146.100098     -0.005763         -1         -1        0.9508   \n",
       "1  3437770000  2159.929932      0.006472          1          1        0.9881   \n",
       "2  3891460000  2171.370117      0.004404          0          1       -0.9888   \n",
       "3  4249220000  2151.129883     -0.008193         -1         -1        0.9911   \n",
       "4  4173340000  2168.270020      0.005453          0          1       -0.8984   \n",
       "\n",
       "   abs_score1  title_score2  abs_score2  title_polarity  title_subjectivity  \\\n",
       "0      0.9990        0.3612      0.9952        0.070004            0.396425   \n",
       "1      0.9976       -0.9761     -0.9717        0.010467            0.412125   \n",
       "2      0.9942       -0.9806      0.7184        0.061586            0.368534   \n",
       "3      0.9987        0.6249      0.9856        0.009768            0.415676   \n",
       "4      0.9958       -0.9623      0.9417        0.081814            0.429716   \n",
       "\n",
       "   abs_polarity  abs_subjectivity  \n",
       "0      0.041043          0.413740  \n",
       "1      0.017999          0.435100  \n",
       "2      0.050819          0.481116  \n",
       "3      0.025399          0.419600  \n",
       "4      0.054197          0.412035  "
      ]
     },
     "execution_count": 170,
     "metadata": {},
     "output_type": "execute_result"
    }
   ],
   "source": [
    "data.head()"
   ]
  },
  {
   "cell_type": "code",
   "execution_count": 214,
   "metadata": {},
   "outputs": [
    {
     "data": {
      "text/plain": [
       "<matplotlib.axes._subplots.AxesSubplot at 0x7ff79d4583c8>"
      ]
     },
     "execution_count": 214,
     "metadata": {},
     "output_type": "execute_result"
    },
    {
     "data": {
      "image/png": "[encoded data removed]",
      "text/plain": [
       "<Figure size 432x288 with 1 Axes>"
      ]
     },
     "metadata": {
      "needs_background": "light"
     },
     "output_type": "display_data"
    }
   ],
   "source": [
    "data['LabeledY2'].plot()"
   ]
  },
  {
   "cell_type": "code",
   "execution_count": 215,
   "metadata": {},
   "outputs": [],
   "source": [
    "y=data['LabeledY2'].ravel()"
   ]
  },
  {
   "cell_type": "code",
   "execution_count": 216,
   "metadata": {},
   "outputs": [],
   "source": [
    "data['title_score1'].describe()\n",
    "x=data[['title_score1']]"
   ]
  },
  {
   "cell_type": "markdown",
   "metadata": {},
   "source": [
    "SVC"
   ]
  },
  {
   "cell_type": "code",
   "execution_count": 232,
   "metadata": {},
   "outputs": [
    {
     "data": {
      "text/plain": [
       "0.5886699507389163"
      ]
     },
     "execution_count": 232,
     "metadata": {},
     "output_type": "execute_result"
    }
   ],
   "source": [
    "\n",
    "# Splitting the dataset into the Training set and Test set\n",
    "x_train, x_test, y_train, y_test = train_test_split(x, y, test_size=0.2, random_state=0)\n",
    "\n",
    "x_train.shape, y_train.shape\n",
    "((409,), (409,))\n",
    "x_test.shape, y_test.shape\n",
    "((108,), (108,))\n",
    "\n",
    "clf = svm.SVC(kernel='linear', C=1).fit(x_train, y_train)\n",
    "\n",
    "clf.score(x_train, y_train)"
   ]
  },
  {
   "cell_type": "code",
   "execution_count": 233,
   "metadata": {},
   "outputs": [
    {
     "data": {
      "text/plain": [
       "0.5196078431372549"
      ]
     },
     "execution_count": 233,
     "metadata": {},
     "output_type": "execute_result"
    }
   ],
   "source": [
    "clf.score(x_test, y_test)"
   ]
  },
  {
   "cell_type": "code",
   "execution_count": 237,
   "metadata": {},
   "outputs": [
    {
     "data": {
      "image/png": "[encoded data removed]",
      "text/plain": [
       "<Figure size 432x288 with 1 Axes>"
      ]
     },
     "metadata": {
      "needs_background": "light"
     },
     "output_type": "display_data"
    }
   ],
   "source": [
    "fig = plt.figure()\n",
    "ax = fig.add_subplot(1,1,1)\n",
    "# X = np.arange(-1.0, 1.0, 0.01)[:, np.newaxis]\n",
    "# y = tree.predict(x_test)\n",
    "ax.scatter(x_train,y_train,label=\"train sample\",c='g')\n",
    "ax.scatter(x_test,y_test,label=\"test sample\",c='r')\n",
    "# ax.scatter(x_test,y,label=\"predict value\", marker='x')\n",
    "ax.set_xlabel(\"title_score1\")\n",
    "ax.set_ylabel(\"Daily Growth\")\n",
    "ax.set_title(\"SVC\")\n",
    "ax.legend(framealpha=0.5)\n",
    "plt.show()"
   ]
  },
  {
   "cell_type": "markdown",
   "metadata": {},
   "source": [
    "Data Transformation"
   ]
  },
  {
   "cell_type": "code",
   "execution_count": 220,
   "metadata": {},
   "outputs": [
    {
     "data": {
      "text/plain": [
       "0.003428734513568621"
      ]
     },
     "execution_count": 220,
     "metadata": {},
     "output_type": "execute_result"
    }
   ],
   "source": [
    "# add data transformation\n",
    "x_train, x_test, y_train, y_test = train_test_split(x, y, test_size=0.2, random_state=0)\n",
    "\n",
    "x_train.shape, y_train.shape\n",
    "((409,), (409,))\n",
    "x_test.shape, y_test.shape\n",
    "((108,), (108,))\n",
    "\n",
    "scaler = preprocessing.StandardScaler().fit(x_train)\n",
    "x_train_transformed = scaler.transform(x_train)\n",
    "clf = svm.SVR(C=1).fit(x_train_transformed, y_train)\n",
    "clf.score(x_train_transformed, y_train)"
   ]
  },
  {
   "cell_type": "code",
   "execution_count": 221,
   "metadata": {},
   "outputs": [
    {
     "data": {
      "text/plain": [
       "0.0008881528929551852"
      ]
     },
     "execution_count": 221,
     "metadata": {},
     "output_type": "execute_result"
    }
   ],
   "source": [
    "x_test_transformed = scaler.transform(x_test)\n",
    "clf.score(x_test_transformed, y_test) \n",
    "# we have the same performance, data scaling doesn't improve the scores of test here."
   ]
  },
  {
   "cell_type": "markdown",
   "metadata": {},
   "source": [
    "Cross-validation"
   ]
  },
  {
   "cell_type": "code",
   "execution_count": 207,
   "metadata": {},
   "outputs": [
    {
     "data": {
      "text/plain": [
       "array([0.57692308, 0.57692308, 0.56862745, 0.56862745, 0.56862745,\n",
       "       0.56862745, 0.58      , 0.58      , 0.58      , 0.58      ])"
      ]
     },
     "execution_count": 207,
     "metadata": {},
     "output_type": "execute_result"
    }
   ],
   "source": [
    "# Cross-validation\n",
    "# another splitting method, since our sampling with only 508 samples is small.\n",
    "\n",
    "clf = svm.SVC(kernel='linear', C=1)\n",
    "scores = cross_val_score(clf, x, y, cv=10)\n",
    "scores # performance of 10 tests"
   ]
  },
  {
   "cell_type": "code",
   "execution_count": 208,
   "metadata": {},
   "outputs": [
    {
     "data": {
      "text/plain": [
       "0.5748355957767722"
      ]
     },
     "execution_count": 208,
     "metadata": {},
     "output_type": "execute_result"
    }
   ],
   "source": [
    "scores.mean() #the average of 10 scores is higher than before"
   ]
  },
  {
   "cell_type": "markdown",
   "metadata": {},
   "source": [
    "SVR"
   ]
  },
  {
   "cell_type": "code",
   "execution_count": 281,
   "metadata": {},
   "outputs": [],
   "source": [
    "y=data['LabeledY2'].ravel()\n",
    "x=data[['abs_score2']]\n",
    "x_train, x_test, y_train, y_test = train_test_split(x, y, test_size=0.3, random_state=0)"
   ]
  },
  {
   "cell_type": "code",
   "execution_count": 283,
   "metadata": {},
   "outputs": [
    {
     "name": "stderr",
     "output_type": "stream",
     "text": [
      "/usr/local/lib/python3.6/site-packages/sklearn/svm/base.py:196: FutureWarning: The default value of gamma will change from 'auto' to 'scale' in version 0.22 to account better for unscaled features. Set gamma explicitly to 'auto' or 'scale' to avoid this warning.\n",
      "  \"avoid this warning.\", FutureWarning)\n",
      "/usr/local/lib/python3.6/site-packages/sklearn/svm/base.py:196: FutureWarning: The default value of gamma will change from 'auto' to 'scale' in version 0.22 to account better for unscaled features. Set gamma explicitly to 'auto' or 'scale' to avoid this warning.\n",
      "  \"avoid this warning.\", FutureWarning)\n"
     ]
    },
    {
     "data": {
      "text/plain": [
       "-0.02169259065037421"
      ]
     },
     "execution_count": 283,
     "metadata": {},
     "output_type": "execute_result"
    }
   ],
   "source": [
    "svr_rbf = SVR(C=1.0, kernel='rbf',) # defining the support vector regression models\n",
    "svr_lin = SVR(kernel= 'linear')\n",
    "svr_poly = SVR(kernel= 'poly')\n",
    "\n",
    "clf_rbf=svr_rbf.fit(x_train, y_train) # fitting the data points in the models\n",
    "clf_lin=svr_lin.fit(x_train, y_train)\n",
    "clf_poly=svr_poly.fit(x_train, y_train)\n",
    "\n",
    "clf_rbf.score(x_test, y_test)#the best fit of 3 methods, but is still not fitting to the dataset.\n"
   ]
  },
  {
   "cell_type": "code",
   "execution_count": 291,
   "metadata": {},
   "outputs": [
    {
     "name": "stderr",
     "output_type": "stream",
     "text": [
      "/usr/local/lib/python3.6/site-packages/matplotlib/legend.py:497: UserWarning: Unrecognized location \"lower\". Falling back on \"best\"; valid locations are\n",
      "\tbest\n",
      "\tupper right\n",
      "\tupper left\n",
      "\tlower left\n",
      "\tlower right\n",
      "\tright\n",
      "\tcenter left\n",
      "\tcenter right\n",
      "\tlower center\n",
      "\tupper center\n",
      "\tcenter\n",
      "\n",
      "  % (loc, '\\n\\t'.join(self.codes)))\n"
     ]
    },
    {
     "data": {
      "image/png": "[encoded data removed]",
      "text/plain": [
       "<Figure size 432x288 with 1 Axes>"
      ]
     },
     "metadata": {
      "needs_background": "light"
     },
     "output_type": "display_data"
    }
   ],
   "source": [
    "\n",
    "fig = plt.figure()\n",
    "ax = fig.add_subplot(1,1,1)\n",
    "\n",
    "y = svr_rbf.predict(x_test)\n",
    "ax.scatter(x_train,y_train,label=\"train sample\",c='g')\n",
    "ax.scatter(x_test,y_test,label=\"test sample\",c='r')\n",
    "ax.scatter(x_test,y,label=\"predict value\", marker='x')\n",
    "ax.set_xlabel(\"title_score1\")\n",
    "ax.set_ylabel(\"Daily Growth\")\n",
    "ax.set_title(\"SVC\")\n",
    "ax.legend(framealpha=0.5,loc='lower')\n",
    "\n",
    "plt.show()"
   ]
  },
  {
   "cell_type": "code",
   "execution_count": 257,
   "metadata": {},
   "outputs": [
    {
     "data": {
      "text/plain": [
       "-0.02124975920417893"
      ]
     },
     "execution_count": 257,
     "metadata": {},
     "output_type": "execute_result"
    }
   ],
   "source": [
    "clf_lin.score(x_test, y_test)"
   ]
  },
  {
   "cell_type": "code",
   "execution_count": 251,
   "metadata": {},
   "outputs": [
    {
     "data": {
      "text/plain": [
       "-0.02124994650298384"
      ]
     },
     "execution_count": 251,
     "metadata": {},
     "output_type": "execute_result"
    }
   ],
   "source": [
    "clf_poly.score(x_test, y_test)"
   ]
  },
  {
   "cell_type": "markdown",
   "metadata": {},
   "source": [
    "Using another sentiment analysis resulat as input of X"
   ]
  },
  {
   "cell_type": "markdown",
   "metadata": {},
   "source": [
    "Only consider \"title\""
   ]
  },
  {
   "cell_type": "code",
   "execution_count": 268,
   "metadata": {},
   "outputs": [],
   "source": [
    "#try to use another second sentiment analysis result as X to fit the model\n",
    "#only considering \"title\"\n",
    "x1=data['title_polarity']\n",
    "x2 = data['title_subjectivity']\n",
    "x=[[x1[i],x2[i]]for i in range(len(x1))] "
   ]
  },
  {
   "cell_type": "code",
   "execution_count": 284,
   "metadata": {},
   "outputs": [
    {
     "name": "stderr",
     "output_type": "stream",
     "text": [
      "/usr/local/lib/python3.6/site-packages/sklearn/svm/base.py:196: FutureWarning: The default value of gamma will change from 'auto' to 'scale' in version 0.22 to account better for unscaled features. Set gamma explicitly to 'auto' or 'scale' to avoid this warning.\n",
      "  \"avoid this warning.\", FutureWarning)\n",
      "/usr/local/lib/python3.6/site-packages/sklearn/svm/base.py:196: FutureWarning: The default value of gamma will change from 'auto' to 'scale' in version 0.22 to account better for unscaled features. Set gamma explicitly to 'auto' or 'scale' to avoid this warning.\n",
      "  \"avoid this warning.\", FutureWarning)\n"
     ]
    },
    {
     "data": {
      "text/plain": [
       "-0.02169259065037421"
      ]
     },
     "execution_count": 284,
     "metadata": {},
     "output_type": "execute_result"
    }
   ],
   "source": [
    "x_train, x_test, y_train, y_test = train_test_split(x, y, test_size=0.3, random_state=0)\n",
    "svr_rbf = SVR(kernel= 'rbf') # defining the support vector regression models\n",
    "svr_lin = SVR(kernel= 'linear')\n",
    "svr_poly = SVR(kernel= 'poly')\n",
    "\n",
    "clf_rbf=svr_rbf.fit(x_train, y_train) # fitting the data points in the models\n",
    "clf_lin=svr_lin.fit(x_train, y_train)\n",
    "clf_poly=svr_poly.fit(x_train, y_train)\n",
    "\n",
    "clf_rbf.score(x_test, y_test)"
   ]
  },
  {
   "cell_type": "code",
   "execution_count": 285,
   "metadata": {},
   "outputs": [
    {
     "data": {
      "text/plain": [
       "-0.02124975920417893"
      ]
     },
     "execution_count": 285,
     "metadata": {},
     "output_type": "execute_result"
    }
   ],
   "source": [
    "clf_lin.score(x_test, y_test)"
   ]
  },
  {
   "cell_type": "markdown",
   "metadata": {},
   "source": [
    "Only consider \"abstract\""
   ]
  },
  {
   "cell_type": "code",
   "execution_count": 271,
   "metadata": {},
   "outputs": [],
   "source": [
    "# when we only consider abstract:\n",
    "x1 = data['abs_polarity']\n",
    "x2 = data['abs_subjectivity']\n",
    "x=[[x1[i],x2[i]]for i in range(len(x1))] "
   ]
  },
  {
   "cell_type": "code",
   "execution_count": 272,
   "metadata": {},
   "outputs": [],
   "source": [
    "x_train, x_test, y_train, y_test = train_test_split(x, y, test_size=0.3, random_state=0)"
   ]
  },
  {
   "cell_type": "code",
   "execution_count": 273,
   "metadata": {},
   "outputs": [
    {
     "name": "stderr",
     "output_type": "stream",
     "text": [
      "/usr/local/lib/python3.6/site-packages/sklearn/svm/base.py:196: FutureWarning: The default value of gamma will change from 'auto' to 'scale' in version 0.22 to account better for unscaled features. Set gamma explicitly to 'auto' or 'scale' to avoid this warning.\n",
      "  \"avoid this warning.\", FutureWarning)\n",
      "/usr/local/lib/python3.6/site-packages/sklearn/svm/base.py:196: FutureWarning: The default value of gamma will change from 'auto' to 'scale' in version 0.22 to account better for unscaled features. Set gamma explicitly to 'auto' or 'scale' to avoid this warning.\n",
      "  \"avoid this warning.\", FutureWarning)\n"
     ]
    },
    {
     "data": {
      "text/plain": [
       "-0.021200884942954135"
      ]
     },
     "execution_count": 273,
     "metadata": {},
     "output_type": "execute_result"
    }
   ],
   "source": [
    "svr_rbf = SVR(kernel= 'rbf') # defining the support vector regression models\n",
    "svr_lin = SVR(kernel= 'linear')\n",
    "svr_poly = SVR(kernel= 'poly')\n",
    "\n",
    "clf_rbf=svr_rbf.fit(x_train, y_train) # fitting the data points in the models\n",
    "clf_lin=svr_lin.fit(x_train, y_train)\n",
    "clf_poly=svr_poly.fit(x_train, y_train)\n",
    "\n",
    "clf_rbf.score(x_test, y_test)"
   ]
  },
  {
   "cell_type": "markdown",
   "metadata": {},
   "source": [
    "Both \"title\" and \"abstract\" are considered"
   ]
  },
  {
   "cell_type": "code",
   "execution_count": 275,
   "metadata": {},
   "outputs": [],
   "source": [
    "# when we consider both  abstract and  title as vector x:\n",
    "x1=data['title_polarity']\n",
    "x2 = data['title_subjectivity']\n",
    "x3 = data['abs_polarity']\n",
    "x4 = data['abs_subjectivity']\n",
    "x=[[x1[i],x2[i],x3[i],x4[i]]for i in range(len(x1))] "
   ]
  },
  {
   "cell_type": "code",
   "execution_count": 276,
   "metadata": {},
   "outputs": [],
   "source": [
    "x_train, x_test, y_train, y_test = train_test_split(x, y, test_size=0.3, random_state=0)"
   ]
  },
  {
   "cell_type": "code",
   "execution_count": 277,
   "metadata": {},
   "outputs": [
    {
     "name": "stderr",
     "output_type": "stream",
     "text": [
      "/usr/local/lib/python3.6/site-packages/sklearn/svm/base.py:196: FutureWarning: The default value of gamma will change from 'auto' to 'scale' in version 0.22 to account better for unscaled features. Set gamma explicitly to 'auto' or 'scale' to avoid this warning.\n",
      "  \"avoid this warning.\", FutureWarning)\n",
      "/usr/local/lib/python3.6/site-packages/sklearn/svm/base.py:196: FutureWarning: The default value of gamma will change from 'auto' to 'scale' in version 0.22 to account better for unscaled features. Set gamma explicitly to 'auto' or 'scale' to avoid this warning.\n",
      "  \"avoid this warning.\", FutureWarning)\n"
     ]
    },
    {
     "data": {
      "text/plain": [
       "-0.021282201249407384"
      ]
     },
     "execution_count": 277,
     "metadata": {},
     "output_type": "execute_result"
    }
   ],
   "source": [
    "svr_rbf = SVR(kernel= 'rbf') # defining the support vector regression models\n",
    "svr_lin = SVR(kernel= 'linear')\n",
    "svr_poly = SVR(kernel= 'poly')\n",
    "\n",
    "clf_rbf=svr_rbf.fit(x_train, y_train) # fitting the data points in the models\n",
    "clf_lin=svr_lin.fit(x_train, y_train)\n",
    "clf_poly=svr_poly.fit(x_train, y_train)\n",
    "\n",
    "clf_rbf.score(x_test, y_test)"
   ]
  },
  {
   "cell_type": "code",
   "execution_count": 293,
   "metadata": {},
   "outputs": [
    {
     "name": "stderr",
     "output_type": "stream",
     "text": [
      "/usr/local/lib/python3.6/site-packages/matplotlib/legend.py:497: UserWarning: Unrecognized location \"lower\". Falling back on \"best\"; valid locations are\n",
      "\tbest\n",
      "\tupper right\n",
      "\tupper left\n",
      "\tlower left\n",
      "\tlower right\n",
      "\tright\n",
      "\tcenter left\n",
      "\tcenter right\n",
      "\tlower center\n",
      "\tupper center\n",
      "\tcenter\n",
      "\n",
      "  % (loc, '\\n\\t'.join(self.codes)))\n"
     ]
    },
    {
     "data": {
      "image/png": "[encoded data removed]",
      "text/plain": [
       "<Figure size 432x288 with 1 Axes>"
      ]
     },
     "metadata": {
      "needs_background": "light"
     },
     "output_type": "display_data"
    }
   ],
   "source": [
    "\n",
    "fig = plt.figure()\n",
    "ax = fig.add_subplot(1,1,1)\n",
    "\n",
    "y = svr_rbf.predict(x_test)\n",
    "ax.scatter(x_train,y_train,label=\"train sample\",c='g')\n",
    "ax.scatter(x_test,y_test,label=\"test sample\",c='r')\n",
    "ax.scatter(x_test,y,label=\"predict value\", marker='x')\n",
    "ax.set_xlabel(\"vector x (title and abstract)\")\n",
    "ax.set_ylabel(\"Daily Growth\")\n",
    "ax.set_title(\"SVC\")\n",
    "ax.legend(framealpha=0.5,loc='lower')\n",
    "\n",
    "plt.show()"
   ]
  },
  {
   "cell_type": "code",
   "execution_count": null,
   "metadata": {},
   "outputs": [],
   "source": []
  }
 ],
 "metadata": {
  "kernelspec": {
   "display_name": "Python 3",
   "language": "python",
   "name": "python3"
  },
  "language_info": {
   "codemirror_mode": {
    "name": "ipython",
    "version": 3
   },
   "file_extension": ".py",
   "mimetype": "text/x-python",
   "name": "python",
   "nbconvert_exporter": "python",
   "pygments_lexer": "ipython3",
   "version": "3.6.3"
  }
 },
 "nbformat": 4,
 "nbformat_minor": 2
}
