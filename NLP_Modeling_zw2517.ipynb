{
 "cells": [
  {
   "cell_type": "code",
   "execution_count": 17,
   "metadata": {},
   "outputs": [],
   "source": [
    "from bs4 import BeautifulSoup\n",
    "import numpy as np\n",
    "import pandas as pd\n",
    "import matplotlib.pyplot as plt\n",
    "import datetime\n",
    "from datetime import datetime\n",
    "from pandas_datareader import data as web\n",
    "import os\n",
    "import string\n",
    "import requests\n",
    "import nltk\n",
    "from nltk import word_tokenize\n",
    "from nltk.corpus import PlaintextCorpusReader\n",
    "from nltk.corpus import stopwords\n",
    "from nltk.tokenize import TweetTokenizer\n",
    "from nltk.tokenize import word_tokenize\n",
    "from nltk.stem import PorterStemmer\n",
    "from nltk.stem import WordNetLemmatizer\n",
    "import re\n",
    "from xgboost import XGBClassifier\n",
    "from sklearn.metrics import accuracy_score"
   ]
  },
  {
   "cell_type": "markdown",
   "metadata": {},
   "source": [
    " <font face=\"Times New Roman\" size=6 color=#000000>\n",
    "   MODEL 1"
   ]
  },
  {
   "cell_type": "markdown",
   "metadata": {},
   "source": [
    " <font face=\"Times New Roman\" size=5 color=#000000>\n",
    "   NLP using SentimentIntensityAnalyzer"
   ]
  },
  {
   "cell_type": "code",
   "execution_count": 7,
   "metadata": {},
   "outputs": [],
   "source": [
    "import nltk\n",
    "from nltk.sentiment.vader import SentimentIntensityAnalyzer as SIA\n",
    "import pandas as pd"
   ]
  },
  {
   "cell_type": "code",
   "execution_count": 8,
   "metadata": {},
   "outputs": [],
   "source": [
    "#import data\n",
    "news_df = pd.read_csv('newscleaned2.csv')"
   ]
  },
  {
   "cell_type": "code",
   "execution_count": 29,
   "metadata": {},
   "outputs": [],
   "source": [
    "# Scoring news with sentiment analysis\n",
    "sia = SIA()\n",
    "title = []\n",
    "abstract = []\n",
    "\n",
    "for line in news_df['News_title']:\n",
    "    pol_score = sia.polarity_scores(line)\n",
    "    title.append(pol_score)\n",
    "\n",
    "for line in news_df['News_abstract']:\n",
    "    pol_score = sia.polarity_scores(line)\n",
    "    abstract.append(pol_score)\n",
    "\n",
    "title_score2 = [item['compound'] for item in title]\n",
    "abs_score2 = [item['compound'] for item in abstract]"
   ]
  },
  {
   "cell_type": "code",
   "execution_count": 30,
   "metadata": {},
   "outputs": [
    {
     "data": {
      "text/html": [
       "<div>\n",
       "<style scoped>\n",
       "    .dataframe tbody tr th:only-of-type {\n",
       "        vertical-align: middle;\n",
       "    }\n",
       "\n",
       "    .dataframe tbody tr th {\n",
       "        vertical-align: top;\n",
       "    }\n",
       "\n",
       "    .dataframe thead th {\n",
       "        text-align: right;\n",
       "    }\n",
       "</style>\n",
       "<table border=\"1\" class=\"dataframe\">\n",
       "  <thead>\n",
       "    <tr style=\"text-align: right;\">\n",
       "      <th></th>\n",
       "      <th>Date</th>\n",
       "      <th>High</th>\n",
       "      <th>Low</th>\n",
       "      <th>Open</th>\n",
       "      <th>Close</th>\n",
       "      <th>Volume</th>\n",
       "      <th>Adj Close</th>\n",
       "      <th>Daily Growth</th>\n",
       "      <th>LabeledY</th>\n",
       "      <th>HighMinusLow</th>\n",
       "      <th>CloseMinusOpen</th>\n",
       "      <th>title_score2</th>\n",
       "      <th>abs_score2</th>\n",
       "      <th>title_polarity</th>\n",
       "      <th>title_subjectivity</th>\n",
       "      <th>abs_polarity</th>\n",
       "      <th>abs_subjectivity</th>\n",
       "    </tr>\n",
       "  </thead>\n",
       "  <tbody>\n",
       "    <tr>\n",
       "      <th>0</th>\n",
       "      <td>2016-09-26</td>\n",
       "      <td>2158.540039</td>\n",
       "      <td>2145.040039</td>\n",
       "      <td>2158.540039</td>\n",
       "      <td>2146.100098</td>\n",
       "      <td>3216170000</td>\n",
       "      <td>2146.100098</td>\n",
       "      <td>-0.005763</td>\n",
       "      <td>-1.0</td>\n",
       "      <td>13.500000</td>\n",
       "      <td>-12.439941</td>\n",
       "      <td>0.3612</td>\n",
       "      <td>0.9952</td>\n",
       "      <td>0.070004</td>\n",
       "      <td>0.396425</td>\n",
       "      <td>0.041043</td>\n",
       "      <td>0.413740</td>\n",
       "    </tr>\n",
       "    <tr>\n",
       "      <th>1</th>\n",
       "      <td>2016-09-27</td>\n",
       "      <td>2161.129883</td>\n",
       "      <td>2141.550049</td>\n",
       "      <td>2146.040039</td>\n",
       "      <td>2159.929932</td>\n",
       "      <td>3437770000</td>\n",
       "      <td>2159.929932</td>\n",
       "      <td>0.006472</td>\n",
       "      <td>1.0</td>\n",
       "      <td>19.579834</td>\n",
       "      <td>13.889893</td>\n",
       "      <td>-0.9761</td>\n",
       "      <td>-0.9717</td>\n",
       "      <td>0.010467</td>\n",
       "      <td>0.412125</td>\n",
       "      <td>0.017999</td>\n",
       "      <td>0.435100</td>\n",
       "    </tr>\n",
       "    <tr>\n",
       "      <th>2</th>\n",
       "      <td>2016-09-28</td>\n",
       "      <td>2172.399902</td>\n",
       "      <td>2151.790039</td>\n",
       "      <td>2161.850098</td>\n",
       "      <td>2171.370117</td>\n",
       "      <td>3891460000</td>\n",
       "      <td>2171.370117</td>\n",
       "      <td>0.004404</td>\n",
       "      <td>0.0</td>\n",
       "      <td>20.609863</td>\n",
       "      <td>9.520020</td>\n",
       "      <td>-0.9806</td>\n",
       "      <td>0.7184</td>\n",
       "      <td>0.061586</td>\n",
       "      <td>0.368534</td>\n",
       "      <td>0.050819</td>\n",
       "      <td>0.481116</td>\n",
       "    </tr>\n",
       "    <tr>\n",
       "      <th>3</th>\n",
       "      <td>2016-09-29</td>\n",
       "      <td>2172.669922</td>\n",
       "      <td>2145.199951</td>\n",
       "      <td>2168.899902</td>\n",
       "      <td>2151.129883</td>\n",
       "      <td>4249220000</td>\n",
       "      <td>2151.129883</td>\n",
       "      <td>-0.008193</td>\n",
       "      <td>-1.0</td>\n",
       "      <td>27.469971</td>\n",
       "      <td>-17.770020</td>\n",
       "      <td>0.6249</td>\n",
       "      <td>0.9856</td>\n",
       "      <td>0.009768</td>\n",
       "      <td>0.415676</td>\n",
       "      <td>0.025399</td>\n",
       "      <td>0.419600</td>\n",
       "    </tr>\n",
       "    <tr>\n",
       "      <th>4</th>\n",
       "      <td>2016-09-30</td>\n",
       "      <td>2175.300049</td>\n",
       "      <td>2156.510010</td>\n",
       "      <td>2156.510010</td>\n",
       "      <td>2168.270020</td>\n",
       "      <td>4173340000</td>\n",
       "      <td>2168.270020</td>\n",
       "      <td>0.005453</td>\n",
       "      <td>0.0</td>\n",
       "      <td>18.790039</td>\n",
       "      <td>11.760010</td>\n",
       "      <td>-0.9623</td>\n",
       "      <td>0.9417</td>\n",
       "      <td>0.081814</td>\n",
       "      <td>0.429716</td>\n",
       "      <td>0.054197</td>\n",
       "      <td>0.412035</td>\n",
       "    </tr>\n",
       "  </tbody>\n",
       "</table>\n",
       "</div>"
      ],
      "text/plain": [
       "         Date         High          Low         Open        Close      Volume  \\\n",
       "0  2016-09-26  2158.540039  2145.040039  2158.540039  2146.100098  3216170000   \n",
       "1  2016-09-27  2161.129883  2141.550049  2146.040039  2159.929932  3437770000   \n",
       "2  2016-09-28  2172.399902  2151.790039  2161.850098  2171.370117  3891460000   \n",
       "3  2016-09-29  2172.669922  2145.199951  2168.899902  2151.129883  4249220000   \n",
       "4  2016-09-30  2175.300049  2156.510010  2156.510010  2168.270020  4173340000   \n",
       "\n",
       "     Adj Close  Daily Growth  LabeledY  HighMinusLow  CloseMinusOpen  \\\n",
       "0  2146.100098     -0.005763      -1.0     13.500000      -12.439941   \n",
       "1  2159.929932      0.006472       1.0     19.579834       13.889893   \n",
       "2  2171.370117      0.004404       0.0     20.609863        9.520020   \n",
       "3  2151.129883     -0.008193      -1.0     27.469971      -17.770020   \n",
       "4  2168.270020      0.005453       0.0     18.790039       11.760010   \n",
       "\n",
       "   title_score2  abs_score2  title_polarity  title_subjectivity  abs_polarity  \\\n",
       "0        0.3612      0.9952        0.070004            0.396425      0.041043   \n",
       "1       -0.9761     -0.9717        0.010467            0.412125      0.017999   \n",
       "2       -0.9806      0.7184        0.061586            0.368534      0.050819   \n",
       "3        0.6249      0.9856        0.009768            0.415676      0.025399   \n",
       "4       -0.9623      0.9417        0.081814            0.429716      0.054197   \n",
       "\n",
       "   abs_subjectivity  \n",
       "0          0.413740  \n",
       "1          0.435100  \n",
       "2          0.481116  \n",
       "3          0.419600  \n",
       "4          0.412035  "
      ]
     },
     "execution_count": 30,
     "metadata": {},
     "output_type": "execute_result"
    }
   ],
   "source": [
    "#Combine Data\n",
    "variables_df = pd.read_csv('df_combine.csv')\n",
    "variables_df['LabeledY'] = variables_df['LabledY']\n",
    "variables_df['title_score2'] = title_score2\n",
    "variables_df['abs_score2'] = abs_score2\n",
    "variables_df = variables_df[['Attributes','High','Low','Open','Close','Volume','Adj Close','Daily Growth','LabeledY','HighMinusLow','CloseMinusOpen','title_score2','abs_score2']]\n",
    "variables_df.columns = ['Date','High','Low','Open','Close','Volume','Adj Close','Daily Growth','LabeledY','HighMinusLow','CloseMinusOpen','title_score2','abs_score2']\n",
    "df = pd.read_csv('News_score3.csv')\n",
    "variables_df[['title_polarity','title_subjectivity','abs_polarity','abs_subjectivity']] = df[['title_polarity','title_subjectivity','abs_polarity','abs_subjectivity']]\n",
    "variables_df.to_csv('News_score.csv')\n",
    "variables_df.head()"
   ]
  },
  {
   "cell_type": "markdown",
   "metadata": {},
   "source": [
    "Statistical Description of title_score2 and abs_score2"
   ]
  },
  {
   "cell_type": "code",
   "execution_count": 82,
   "metadata": {},
   "outputs": [
    {
     "data": {
      "text/html": [
       "<div>\n",
       "<style scoped>\n",
       "    .dataframe tbody tr th:only-of-type {\n",
       "        vertical-align: middle;\n",
       "    }\n",
       "\n",
       "    .dataframe tbody tr th {\n",
       "        vertical-align: top;\n",
       "    }\n",
       "\n",
       "    .dataframe thead th {\n",
       "        text-align: right;\n",
       "    }\n",
       "</style>\n",
       "<table border=\"1\" class=\"dataframe\">\n",
       "  <thead>\n",
       "    <tr style=\"text-align: right;\">\n",
       "      <th></th>\n",
       "      <th>title_score2</th>\n",
       "      <th>abs_score2</th>\n",
       "    </tr>\n",
       "  </thead>\n",
       "  <tbody>\n",
       "    <tr>\n",
       "      <th>count</th>\n",
       "      <td>508.000000</td>\n",
       "      <td>508.000000</td>\n",
       "    </tr>\n",
       "    <tr>\n",
       "      <th>mean</th>\n",
       "      <td>-0.227433</td>\n",
       "      <td>0.153718</td>\n",
       "    </tr>\n",
       "    <tr>\n",
       "      <th>std</th>\n",
       "      <td>0.821171</td>\n",
       "      <td>0.894952</td>\n",
       "    </tr>\n",
       "    <tr>\n",
       "      <th>min</th>\n",
       "      <td>-0.996400</td>\n",
       "      <td>-0.998400</td>\n",
       "    </tr>\n",
       "    <tr>\n",
       "      <th>25%</th>\n",
       "      <td>-0.961750</td>\n",
       "      <td>-0.944625</td>\n",
       "    </tr>\n",
       "    <tr>\n",
       "      <th>50%</th>\n",
       "      <td>-0.733100</td>\n",
       "      <td>0.797550</td>\n",
       "    </tr>\n",
       "    <tr>\n",
       "      <th>75%</th>\n",
       "      <td>0.792950</td>\n",
       "      <td>0.983450</td>\n",
       "    </tr>\n",
       "    <tr>\n",
       "      <th>max</th>\n",
       "      <td>0.994600</td>\n",
       "      <td>0.998100</td>\n",
       "    </tr>\n",
       "  </tbody>\n",
       "</table>\n",
       "</div>"
      ],
      "text/plain": [
       "       title_score2  abs_score2\n",
       "count    508.000000  508.000000\n",
       "mean      -0.227433    0.153718\n",
       "std        0.821171    0.894952\n",
       "min       -0.996400   -0.998400\n",
       "25%       -0.961750   -0.944625\n",
       "50%       -0.733100    0.797550\n",
       "75%        0.792950    0.983450\n",
       "max        0.994600    0.998100"
      ]
     },
     "execution_count": 82,
     "metadata": {},
     "output_type": "execute_result"
    }
   ],
   "source": [
    "import pandas as pd\n",
    "s = variables_df[['title_score2','abs_score2']]\n",
    "s.describe()"
   ]
  },
  {
   "cell_type": "code",
   "execution_count": 81,
   "metadata": {},
   "outputs": [
    {
     "data": {
      "text/plain": [
       "<matplotlib.axes._subplots.AxesSubplot at 0x7f6dc4fadbe0>"
      ]
     },
     "execution_count": 81,
     "metadata": {},
     "output_type": "execute_result"
    },
    {
     "data": {
      "image/png": "[encoded data removed]",
      "text/plain": [
       "<Figure size 432x288 with 1 Axes>"
      ]
     },
     "metadata": {
      "needs_background": "light"
     },
     "output_type": "display_data"
    }
   ],
   "source": [
    "import seaborn as sns\n",
    "sns.distplot(s['title_score2'])\n",
    "sns.distplot(s['abs_score2'])"
   ]
  },
  {
   "cell_type": "markdown",
   "metadata": {},
   "source": [
    "Statistical Description of polarity and subjectivity"
   ]
  },
  {
   "cell_type": "code",
   "execution_count": 83,
   "metadata": {},
   "outputs": [
    {
     "data": {
      "text/html": [
       "<div>\n",
       "<style scoped>\n",
       "    .dataframe tbody tr th:only-of-type {\n",
       "        vertical-align: middle;\n",
       "    }\n",
       "\n",
       "    .dataframe tbody tr th {\n",
       "        vertical-align: top;\n",
       "    }\n",
       "\n",
       "    .dataframe thead th {\n",
       "        text-align: right;\n",
       "    }\n",
       "</style>\n",
       "<table border=\"1\" class=\"dataframe\">\n",
       "  <thead>\n",
       "    <tr style=\"text-align: right;\">\n",
       "      <th></th>\n",
       "      <th>title_polarity</th>\n",
       "      <th>title_subjectivity</th>\n",
       "      <th>abs_polarity</th>\n",
       "      <th>abs_subjectivity</th>\n",
       "    </tr>\n",
       "  </thead>\n",
       "  <tbody>\n",
       "    <tr>\n",
       "      <th>count</th>\n",
       "      <td>508.000000</td>\n",
       "      <td>508.000000</td>\n",
       "      <td>508.000000</td>\n",
       "      <td>508.000000</td>\n",
       "    </tr>\n",
       "    <tr>\n",
       "      <th>mean</th>\n",
       "      <td>0.059931</td>\n",
       "      <td>0.397146</td>\n",
       "      <td>0.048969</td>\n",
       "      <td>0.430825</td>\n",
       "    </tr>\n",
       "    <tr>\n",
       "      <th>std</th>\n",
       "      <td>0.040139</td>\n",
       "      <td>0.042458</td>\n",
       "      <td>0.021708</td>\n",
       "      <td>0.021629</td>\n",
       "    </tr>\n",
       "    <tr>\n",
       "      <th>min</th>\n",
       "      <td>-0.041995</td>\n",
       "      <td>0.273365</td>\n",
       "      <td>-0.001804</td>\n",
       "      <td>0.370725</td>\n",
       "    </tr>\n",
       "    <tr>\n",
       "      <th>25%</th>\n",
       "      <td>0.033728</td>\n",
       "      <td>0.370636</td>\n",
       "      <td>0.033255</td>\n",
       "      <td>0.415733</td>\n",
       "    </tr>\n",
       "    <tr>\n",
       "      <th>50%</th>\n",
       "      <td>0.058807</td>\n",
       "      <td>0.396531</td>\n",
       "      <td>0.048259</td>\n",
       "      <td>0.430852</td>\n",
       "    </tr>\n",
       "    <tr>\n",
       "      <th>75%</th>\n",
       "      <td>0.085724</td>\n",
       "      <td>0.422347</td>\n",
       "      <td>0.063720</td>\n",
       "      <td>0.445146</td>\n",
       "    </tr>\n",
       "    <tr>\n",
       "      <th>max</th>\n",
       "      <td>0.217188</td>\n",
       "      <td>0.556629</td>\n",
       "      <td>0.112616</td>\n",
       "      <td>0.490550</td>\n",
       "    </tr>\n",
       "  </tbody>\n",
       "</table>\n",
       "</div>"
      ],
      "text/plain": [
       "       title_polarity  title_subjectivity  abs_polarity  abs_subjectivity\n",
       "count      508.000000          508.000000    508.000000        508.000000\n",
       "mean         0.059931            0.397146      0.048969          0.430825\n",
       "std          0.040139            0.042458      0.021708          0.021629\n",
       "min         -0.041995            0.273365     -0.001804          0.370725\n",
       "25%          0.033728            0.370636      0.033255          0.415733\n",
       "50%          0.058807            0.396531      0.048259          0.430852\n",
       "75%          0.085724            0.422347      0.063720          0.445146\n",
       "max          0.217188            0.556629      0.112616          0.490550"
      ]
     },
     "execution_count": 83,
     "metadata": {},
     "output_type": "execute_result"
    }
   ],
   "source": [
    "import pandas as pd\n",
    "s = variables_df[['title_polarity','title_subjectivity','abs_polarity','abs_subjectivity']]\n",
    "s.describe()"
   ]
  },
  {
   "cell_type": "code",
   "execution_count": 88,
   "metadata": {},
   "outputs": [
    {
     "data": {
      "text/plain": [
       "<matplotlib.axes._subplots.AxesSubplot at 0x7f6dc8a95668>"
      ]
     },
     "execution_count": 88,
     "metadata": {},
     "output_type": "execute_result"
    },
    {
     "data": {
      "image/png": "[encoded data removed]",
      "text/plain": [
       "<Figure size 432x288 with 1 Axes>"
      ]
     },
     "metadata": {
      "needs_background": "light"
     },
     "output_type": "display_data"
    }
   ],
   "source": [
    "import seaborn as sns\n",
    "sns.distplot(s['title_polarity'])\n",
    "# sns.distplot(s['title_subjectivity'])\n",
    "sns.distplot(s['abs_polarity'])\n",
    "# sns.distplot(s['abs_subjectivity'])"
   ]
  },
  {
   "cell_type": "code",
   "execution_count": 89,
   "metadata": {},
   "outputs": [
    {
     "data": {
      "text/plain": [
       "<matplotlib.axes._subplots.AxesSubplot at 0x7f6dc4cd9198>"
      ]
     },
     "execution_count": 89,
     "metadata": {},
     "output_type": "execute_result"
    },
    {
     "data": {
      "image/png": "[encoded data removed]",
      "text/plain": [
       "<Figure size 432x288 with 1 Axes>"
      ]
     },
     "metadata": {
      "needs_background": "light"
     },
     "output_type": "display_data"
    }
   ],
   "source": [
    "sns.distplot(s['title_subjectivity'])\n",
    "sns.distplot(s['abs_subjectivity'])"
   ]
  },
  {
   "cell_type": "markdown",
   "metadata": {},
   "source": [
    " <font face=\"Times New Roman\" size=5 color=#000000>\n",
    "   Split Training and Testing Set (Based on Work of Ke Chen)"
   ]
  },
  {
   "cell_type": "code",
   "execution_count": 31,
   "metadata": {},
   "outputs": [],
   "source": [
    "# # Splite X to TrainX and TestX 80/20\n",
    "# # Splite Y to TrainY and TestY 80/20\n",
    "# X = pd.read_csv(\"newscleaned2.csv\")\n",
    "# Y = variables_df['LabeledY']\n",
    "# X_score = variables_df[['title_score2','abs_score2']]\n",
    "# cut = int(0.8*X.shape[0])\n",
    "# Xtrain = X_score.iloc[0: cut]\n",
    "# Xtest = X_score.iloc[X.shape[0]-cut:]\n",
    "# Ytrain = Y.iloc[0: cut]\n",
    "# Ytest = Y.iloc[Y.shape[0]-cut:]"
   ]
  },
  {
   "cell_type": "code",
   "execution_count": 51,
   "metadata": {},
   "outputs": [],
   "source": [
    "# Splite X to TrainX and TestX 70/30\n",
    "# Splite Y to TrainY and TestY 70/30\n",
    "X = pd.read_csv(\"newscleaned2.csv\")\n",
    "Y = variables_df['LabeledY']\n",
    "X_score = variables_df[['title_score2','abs_score2']]\n",
    "cut = int(0.7*X.shape[0])\n",
    "Xtrain = X_score.iloc[0: cut]\n",
    "Xtest = X_score.iloc[X.shape[0]-cut:]\n",
    "Ytrain = Y.iloc[0: cut]\n",
    "Ytest = Y.iloc[Y.shape[0]-cut:]"
   ]
  },
  {
   "cell_type": "code",
   "execution_count": 55,
   "metadata": {},
   "outputs": [],
   "source": [
    "# # Splite X to TrainX and TestX 60/40\n",
    "# # Splite Y to TrainY and TestY 60/40\n",
    "# X = pd.read_csv(\"newscleaned2.csv\")\n",
    "# Y = variables_df['LabeledY']\n",
    "# X_score = variables_df[['title_polarity','title_subjectivity','abs_polarity','abs_subjectivity']]\n",
    "# cut = int(0.7*X.shape[0])\n",
    "# Xtrain = X_score.iloc[0: cut]\n",
    "# Xtest = X_score.iloc[X.shape[0]-cut:]\n",
    "# Ytrain = Y.iloc[0: cut]\n",
    "# Ytest = Y.iloc[Y.shape[0]-cut:]"
   ]
  },
  {
   "cell_type": "markdown",
   "metadata": {},
   "source": [
    " <font face=\"Times New Roman\" size=5 color=#000000>\n",
    "   Modeling Using XGBoost (Based on Work of Ke Chen)"
   ]
  },
  {
   "cell_type": "code",
   "execution_count": 96,
   "metadata": {},
   "outputs": [
    {
     "name": "stdout",
     "output_type": "stream",
     "text": [
      "0.9154929577464789\n",
      "0.8225352112676056\n",
      "[[0.01150472 0.9608774  0.02761783]\n",
      " [0.18859015 0.79586494 0.0155449 ]\n",
      " [0.01259806 0.9847025  0.00269936]\n",
      " ...\n",
      " [0.02656111 0.9608257  0.01261322]\n",
      " [0.01471618 0.926582   0.05870187]\n",
      " [0.02713966 0.9331585  0.0397018 ]]\n"
     ]
    }
   ],
   "source": [
    "XGBModel = XGBClassifier(max_depth=3, learning_rate=0.1, n_estimators=100, \\\n",
    "                              silent=True, objective='binary:logistic', nthread=-1, \\\n",
    "                              reg_alpha=0, reg_lambda=1, \\\n",
    "                              base_score=0.5, missing=None)\n",
    "\n",
    "fit=XGBModel.fit(Xtrain, Ytrain)\n",
    "print(XGBModel.score(Xtrain,Ytrain))\n",
    "print(XGBModel.score(Xtest,Ytest))\n",
    "print(XGBModel.predict_proba(Xtest))"
   ]
  },
  {
   "cell_type": "markdown",
   "metadata": {},
   "source": [
    " <font face=\"Times New Roman\" size=6 color=#000000>\n",
    "   MODEL 2"
   ]
  },
  {
   "cell_type": "code",
   "execution_count": null,
   "metadata": {},
   "outputs": [],
   "source": []
  }
 ],
 "metadata": {
  "kernelspec": {
   "display_name": "Python 3",
   "language": "python",
   "name": "python3"
  },
  "language_info": {
   "codemirror_mode": {
    "name": "ipython",
    "version": 3
   },
   "file_extension": ".py",
   "mimetype": "text/x-python",
   "name": "python",
   "nbconvert_exporter": "python",
   "pygments_lexer": "ipython3",
   "version": "3.6.3"
  }
 },
 "nbformat": 4,
 "nbformat_minor": 2
}
